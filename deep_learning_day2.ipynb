{
 "cells": [
  {
   "cell_type": "markdown",
   "metadata": {},
   "source": [
    "# 深層学習day2"
   ]
  },
  {
   "cell_type": "markdown",
   "metadata": {},
   "source": [
    "# 勾配消失問題"
   ]
  },
  {
   "cell_type": "markdown",
   "metadata": {},
   "source": [
    "### 確認テスト①\n",
    "#### Q.\n",
    "$$\n",
    "z=t^2\\\\t=x+y\n",
    "$$\n",
    "連鎖律の原理を使い、dz/dxを求めよ。\n",
    "#### A.\n",
    "$\n",
    "\\frac{\\partial z}{\\partial x}\n",
    "=\\frac{\\partial z}{\\partial t}\\frac{\\partial t}{\\partial x}\n",
    "=2t\\\\\n",
    "=2(x+y)\n",
    "$\n",
    "___"
   ]
  },
  {
   "cell_type": "markdown",
   "metadata": {},
   "source": [
    "### 勾配消失問題の復習\n",
    "* 誤差逆伝播法が下位層に進んでいくに連れて、勾配がどんどん緩やかになっていく\n",
    "* 勾配降下法による、更新では下位層のパラメータはほとんど変わらず、訓練は最適値に収束しなくなる\n",
    "* sigmoid関数で起きやすい\n",
    "___"
   ]
  },
  {
   "cell_type": "markdown",
   "metadata": {},
   "source": [
    "### シグモイド関数\n",
    "$$\\sigma(x)=\\frac1{1+e^{-x}}$$\n",
    "* 2値分類の出力層に使われる\n",
    "* 0 ~ 1の間を緩やかに変化する関数で、ステップ関数ではON/OFFしかない状態に対し、信号の強弱を伝えられるようになり、予想ニューラルネットワーク普及のきっかけとなった\n",
    "* 課題...大きな値では出力の変化が微小なため、勾配消失問題を引き起こす事があった\n",
    "___"
   ]
  },
  {
   "cell_type": "markdown",
   "metadata": {},
   "source": [
    "### 確認テスト②\n",
    "#### Q.\n",
    "シグモイド関数を微分した時、入力値が0の時に最大値をとる。その値として正しいものを選択肢から選べ。\n",
    "#### A.\n",
    "$\n",
    "\\sigma(0)=0.5\\\\\n",
    "\\frac{\\partial \\sigma(x)}{\\partial x}=\\sigma(x)(1-\\sigma(x))\n",
    "$\n",
    "\n",
    "より、(2)0.25\n",
    "___"
   ]
  },
  {
   "cell_type": "markdown",
   "metadata": {},
   "source": [
    "### 勾配消失の解決法\n",
    "* 活性化関数の選択\n",
    "* 重みの初期値設定\n",
    "* バッチ正規化\n",
    "___"
   ]
  },
  {
   "cell_type": "markdown",
   "metadata": {},
   "source": [
    "### Relu関数\n",
    "$$\n",
    "f(x) = \n",
    "\\left\\{\n",
    "\\begin{array}{ll}x & (x>0) \\\\\n",
    "0 & (x \\leq 0)\n",
    "\\end{array}\n",
    "\\right.$$\n",
    "* 今最も使われている活性化関数\n",
    "* 勾配消失問題の回避とスパース化に貢献することで良い成果をもたらしている\n",
    "___"
   ]
  },
  {
   "cell_type": "markdown",
   "metadata": {},
   "source": [
    "### 重みの初期値 -Xavier\n",
    "* 対応の活性化関数...Relu関数、シグモイド関数、双曲線正接関数\n",
    "* 初期値の設定方法...**重みの要素を、前の層のノード数の平方根で除算した値**\n",
    "___"
   ]
  },
  {
   "cell_type": "markdown",
   "metadata": {},
   "source": [
    "### 重みの初期値 -He\n",
    "* 対応の活性化関数...Relu関数\n",
    "* 初期値の設定方法...**重みの要素を、前の層のノード数の平方根で除算した値**に対し√２をかけ合わせた値\n",
    "___"
   ]
  },
  {
   "cell_type": "markdown",
   "metadata": {},
   "source": [
    "### 確認テスト③\n",
    "#### Q.\n",
    "重みの初期値に0を設定すると、どのような問題が発生するか。簡潔に説明せよ。\n",
    "#### A.\n",
    "全ての重みの値が均一に更新される。正しく学習が行われない可能性がある。\n",
    "___"
   ]
  },
  {
   "cell_type": "markdown",
   "metadata": {},
   "source": [
    "### バッチ正規化\n",
    "* ミニバッチ単位で、入力値のデータの偏りを抑制する手法\n",
    "* 活性化関数に値を渡す前後に、バッチ正規化の処理を孕んだ層を加える\n",
    "___"
   ]
  },
  {
   "cell_type": "markdown",
   "metadata": {},
   "source": [
    "### 確認テスト④\n",
    "#### Q.\n",
    "一般的に考えられるバッチ正規化の効果を2点挙げよ。\n",
    "#### A.\n",
    "1. 中間層の重みの更新が安定化され学習速度が上がる\n",
    "2. 過学習が起きにくい(ドロップアウトとの相性は悪いとの記事もある)\n",
    "___"
   ]
  },
  {
   "cell_type": "markdown",
   "metadata": {},
   "source": [
    "### ハンズオン"
   ]
  },
  {
   "cell_type": "code",
   "execution_count": 22,
   "metadata": {},
   "outputs": [],
   "source": [
    "import numpy as np\n",
    "from common import layers\n",
    "from collections import OrderedDict\n",
    "from common import functions\n",
    "from data.mnist import load_mnist\n",
    "import matplotlib.pyplot as plt\n",
    "from multi_layer_net import MultiLayerNet"
   ]
  },
  {
   "cell_type": "markdown",
   "metadata": {},
   "source": [
    "* 必要なライブラリのインポート\n",
    "* 結局、配布されたものを自作ライブラリとしてインポートすることにした"
   ]
  },
  {
   "cell_type": "code",
   "execution_count": 23,
   "metadata": {},
   "outputs": [
    {
     "name": "stdout",
     "output_type": "stream",
     "text": [
      "(60000, 784)\n",
      "(10000, 784)\n"
     ]
    }
   ],
   "source": [
    "(x_train, d_train), (x_test, d_test) = load_mnist(normalize=True, one_hot_label=True)\n",
    "print(x_train.shape)\n",
    "print(x_test.shape)"
   ]
  },
  {
   "cell_type": "markdown",
   "metadata": {},
   "source": [
    "* データの読み込み後、サイズを出力\n",
    "* 前処理に関する部分は、自作モジュール内に記載されている"
   ]
  },
  {
   "cell_type": "code",
   "execution_count": 24,
   "metadata": {},
   "outputs": [],
   "source": [
    "network = MultiLayerNet(input_size=784, \n",
    "                        hidden_size_list=[40, 20], \n",
    "                        output_size=10, activation='relu',\n",
    "                        weight_init_std=0.01)"
   ]
  },
  {
   "cell_type": "markdown",
   "metadata": {},
   "source": [
    "* 多層ネットワークの初期化\n",
    "* 活性化関数...Relu\n",
    "* 初期化方法...ランダム(設定なし)"
   ]
  },
  {
   "cell_type": "code",
   "execution_count": 25,
   "metadata": {},
   "outputs": [],
   "source": [
    "iters_num = 2000\n",
    "train_size = x_train.shape[0]\n",
    "batch_size = 100\n",
    "learning_rate = 0.1\n",
    "plot_interval=10"
   ]
  },
  {
   "cell_type": "markdown",
   "metadata": {},
   "source": [
    "* ハイパーパラメータを定義\n",
    "* その他必要なパラメータを定義"
   ]
  },
  {
   "cell_type": "code",
   "execution_count": 26,
   "metadata": {},
   "outputs": [],
   "source": [
    "train_loss_list = []\n",
    "accuracies_train = []\n",
    "accuracies_test = []\n",
    "\n",
    "for i in range(iters_num):\n",
    "    batch_mask = np.random.choice(train_size, batch_size)\n",
    "    x_batch = x_train[batch_mask]\n",
    "    d_batch = d_train[batch_mask]\n",
    "    grad = network.gradient(x_batch, d_batch)\n",
    "    for key in ('W1', 'W2', 'W3', 'b1', 'b2', 'b3'):\n",
    "        network.params[key] -= learning_rate * grad[key]\n",
    "    loss = network.loss(x_batch, d_batch)\n",
    "    train_loss_list.append(loss)\n",
    "    \n",
    "    if (i + 1) % plot_interval == 0:\n",
    "        accr_test = network.accuracy(x_test, d_test)\n",
    "        accuracies_test.append(accr_test)        \n",
    "        accr_train = network.accuracy(x_batch, d_batch)\n",
    "        accuracies_train.append(accr_train)\n",
    "        # print('accuracy_train{}:'.format(i+1), str(accr_train))\n",
    "        # print('accuracy_test{}:'.format(i+1), str(accr_test))"
   ]
  },
  {
   "cell_type": "markdown",
   "metadata": {},
   "source": [
    "* Relu関数で、実際に学習\n",
    "* 学習履歴の出力は省略する"
   ]
  },
  {
   "cell_type": "code",
   "execution_count": 27,
   "metadata": {},
   "outputs": [
    {
     "data": {
      "image/png": "[encoded data removed]",
      "text/plain": [
       "<Figure size 432x288 with 1 Axes>"
      ]
     },
     "metadata": {
      "needs_background": "light"
     },
     "output_type": "display_data"
    }
   ],
   "source": [
    "lists = range(0, iters_num, plot_interval)\n",
    "plt.plot(lists, accuracies_train, label=\"training set\")\n",
    "plt.plot(lists, accuracies_test,  label=\"test set\")\n",
    "plt.legend(loc=\"lower right\")\n",
    "plt.title(\"Relu + random\")\n",
    "plt.xlabel(\"count\")\n",
    "plt.ylabel(\"accuracy\")\n",
    "plt.ylim(0, 1.0)\n",
    "plt.show()"
   ]
  },
  {
   "cell_type": "markdown",
   "metadata": {},
   "source": [
    "* 学習履歴の描画\n",
    "* 途中からではあるが、学習が進み、正解率もかなり高く収束している"
   ]
  },
  {
   "cell_type": "code",
   "execution_count": 28,
   "metadata": {},
   "outputs": [],
   "source": [
    "network = MultiLayerNet(input_size=784, \n",
    "                        hidden_size_list=[40, 20], \n",
    "                        output_size=10, activation='relu',\n",
    "                        weight_init_std='He')"
   ]
  },
  {
   "cell_type": "markdown",
   "metadata": {},
   "source": [
    "* Relu+Heを試す"
   ]
  },
  {
   "cell_type": "code",
   "execution_count": 29,
   "metadata": {},
   "outputs": [],
   "source": [
    "train_loss_list = []\n",
    "accuracies_train = []\n",
    "accuracies_test = []\n",
    "\n",
    "for i in range(iters_num):\n",
    "    batch_mask = np.random.choice(train_size, batch_size)\n",
    "    x_batch = x_train[batch_mask]\n",
    "    d_batch = d_train[batch_mask]\n",
    "    grad = network.gradient(x_batch, d_batch)\n",
    "    for key in ('W1', 'W2', 'W3', 'b1', 'b2', 'b3'):\n",
    "        network.params[key] -= learning_rate * grad[key]\n",
    "    loss = network.loss(x_batch, d_batch)\n",
    "    train_loss_list.append(loss)\n",
    "    \n",
    "    if (i + 1) % plot_interval == 0:\n",
    "        accr_test = network.accuracy(x_test, d_test)\n",
    "        accuracies_test.append(accr_test)        \n",
    "        accr_train = network.accuracy(x_batch, d_batch)\n",
    "        accuracies_train.append(accr_train)"
   ]
  },
  {
   "cell_type": "markdown",
   "metadata": {},
   "source": [
    "* パラメータ類は同じものを使用"
   ]
  },
  {
   "cell_type": "code",
   "execution_count": 30,
   "metadata": {},
   "outputs": [
    {
     "data": {
      "image/png": "[encoded data removed]",
      "text/plain": [
       "<Figure size 432x288 with 1 Axes>"
      ]
     },
     "metadata": {
      "needs_background": "light"
     },
     "output_type": "display_data"
    }
   ],
   "source": [
    "lists = range(0, iters_num, plot_interval)\n",
    "plt.plot(lists, accuracies_train, label=\"training set\")\n",
    "plt.plot(lists, accuracies_test,  label=\"test set\")\n",
    "plt.legend(loc=\"lower right\")\n",
    "plt.title(\"Relu + He\")\n",
    "plt.xlabel(\"count\")\n",
    "plt.ylabel(\"accuracy\")\n",
    "plt.ylim(0, 1.0)\n",
    "plt.show()"
   ]
  },
  {
   "cell_type": "markdown",
   "metadata": {},
   "source": [
    "* 早い時点で、学習が進んでいるのがわかる\n",
    "* 正解率も、初期値の設定をしなかった結果に比べて、高い\n",
    "___"
   ]
  },
  {
   "cell_type": "markdown",
   "metadata": {},
   "source": [
    "# 学習率最適化手法"
   ]
  },
  {
   "cell_type": "markdown",
   "metadata": {},
   "source": [
    "### 学習率の決め方\n",
    "* 学習率最適化手法(オプティマイザ)を利用して、学習率を最適化\n",
    "* 初期の学習率を大きくし、徐々に小さくしていくのが主流\n",
    "___"
   ]
  },
  {
   "cell_type": "markdown",
   "metadata": {},
   "source": [
    "### 勾配降下法(参考)\n",
    "$$w^{t+1}=w^t-\\varepsilon\\nabla E$$\n",
    "* 誤差をパラメータで微分したものと、学習率の積を減算する\n",
    "___"
   ]
  },
  {
   "cell_type": "markdown",
   "metadata": {},
   "source": [
    "### モメンタム\n",
    "$$\n",
    "V_t=\\mu V_{t-1}-\\epsilon\\nabla E\\\\\n",
    "w^{t+1}=w^t+V_t\n",
    "$$\n",
    "* 誤差をパラメータで微分したものと、学習率の積を減算する\n",
    "* 現在の重みに、前回の重みを減算した値と慣性の積を加算する\n",
    "* 局所最適解に陥りにくい\n",
    "* 学習の収束が早い\n",
    "___"
   ]
  },
  {
   "cell_type": "markdown",
   "metadata": {},
   "source": [
    "### AdaGrad\n",
    "$$\n",
    "h_0=\\theta\\\\\n",
    "h_t=h_{t-1}+(\\nabla E)^2\\\\\n",
    "w^{t+1}=w^t-\\epsilon\\frac{1}{\\sqrt{h_t}+\\theta}\\nabla E\n",
    "$$\n",
    "* 誤差をパラメータで微分したものと、再定義した学習率の積を減算する\n",
    "* 勾配の緩やかな斜面に対して、最適値に近づける\n",
    "* 学習率が徐々に小さくなるので、**鞍点問題**を起こすことがある\n",
    "___"
   ]
  },
  {
   "cell_type": "markdown",
   "metadata": {},
   "source": [
    "### RMSprop\n",
    "$$\n",
    "h_t=\\alpha h_{t-1}+(1-\\alpha)(\\nabla E)^2\\\\\n",
    "w^{t+1}=w^t-\\epsilon\\frac{1}{\\sqrt{h_t}+\\theta}\\nabla E\n",
    "$$\n",
    "* 誤差をパラメータで微分したものと、再定義した学習率の積を減算する\n",
    "* 局所最適解に陥りにくい\n",
    "* ハイパーパラメータの調整が必要な場合が少ない\n",
    "___"
   ]
  },
  {
   "cell_type": "markdown",
   "metadata": {},
   "source": [
    "### Adam\n",
    "* モメンタムの、過去の勾配の指数関数的減衰平均\n",
    "* RMSpropの、過去の勾配の2乗の指数関数的減衰平均\n",
    "* 上記の2つをそれぞれ孕んだ手法\n",
    "___"
   ]
  },
  {
   "cell_type": "markdown",
   "metadata": {},
   "source": [
    "### ハンズオン"
   ]
  },
  {
   "cell_type": "code",
   "execution_count": 11,
   "metadata": {},
   "outputs": [],
   "source": [
    "import numpy as np\n",
    "from collections import OrderedDict\n",
    "from common import layers\n",
    "from data.mnist import load_mnist\n",
    "import matplotlib.pyplot as plt\n",
    "from multi_layer_net import MultiLayerNet"
   ]
  },
  {
   "cell_type": "markdown",
   "metadata": {},
   "source": [
    "* 必要なライブラリのインポート"
   ]
  },
  {
   "cell_type": "code",
   "execution_count": 48,
   "metadata": {},
   "outputs": [],
   "source": [
    "network = MultiLayerNet(input_size=784, \n",
    "                        hidden_size_list=[40, 20], \n",
    "                        output_size=10, activation='sigmoid', \n",
    "                        weight_init_std=0.01,\n",
    "                        use_batchnorm=False)"
   ]
  },
  {
   "cell_type": "markdown",
   "metadata": {},
   "source": [
    "* 多層ネットワークの初期化\n",
    "* 活性化関数...sigmoid\n",
    "* 初期化方法...ランダム(設定なし)\n",
    "* バッチ正規化...なし"
   ]
  },
  {
   "cell_type": "code",
   "execution_count": 49,
   "metadata": {},
   "outputs": [],
   "source": [
    "momentum = 0.9"
   ]
  },
  {
   "cell_type": "markdown",
   "metadata": {},
   "source": [
    "* モメンタムに必要なハイパーパラメータを定義\n",
    "* その他必要なパラメータは同じものを使用"
   ]
  },
  {
   "cell_type": "code",
   "execution_count": 50,
   "metadata": {},
   "outputs": [],
   "source": [
    "train_loss_list = []\n",
    "accuracies_train = []\n",
    "accuracies_test = []\n",
    "\n",
    "for i in range(iters_num):\n",
    "    batch_mask = np.random.choice(train_size, batch_size)\n",
    "    x_batch = x_train[batch_mask]\n",
    "    d_batch = d_train[batch_mask]\n",
    "    grad = network.gradient(x_batch, d_batch)\n",
    "    if i == 0:\n",
    "        v = {}\n",
    "    for key in ('W1', 'W2', 'W3', 'b1', 'b2', 'b3'):\n",
    "        if i == 0:\n",
    "            v[key] = np.zeros_like(network.params[key])\n",
    "        v[key] = momentum * v[key] - learning_rate * grad[key]\n",
    "        network.params[key] += v[key]\n",
    "        loss = network.loss(x_batch, d_batch)\n",
    "        train_loss_list.append(loss)\n",
    "        \n",
    "    if (i + 1) % plot_interval == 0:\n",
    "        accr_test = network.accuracy(x_test, d_test)\n",
    "        accuracies_test.append(accr_test)        \n",
    "        accr_train = network.accuracy(x_batch, d_batch)\n",
    "        accuracies_train.append(accr_train)"
   ]
  },
  {
   "cell_type": "markdown",
   "metadata": {},
   "source": [
    "* Relu関数で、実際に学習\n",
    "* 最適化手法は「momentum」\n",
    "* 学習データは同じものを使用\n",
    "* 学習履歴の出力は省略する"
   ]
  },
  {
   "cell_type": "code",
   "execution_count": 54,
   "metadata": {},
   "outputs": [
    {
     "data": {
      "image/png": "[encoded data removed]",
      "text/plain": [
       "<Figure size 432x288 with 1 Axes>"
      ]
     },
     "metadata": {
      "needs_background": "light"
     },
     "output_type": "display_data"
    }
   ],
   "source": [
    "lists = range(0, iters_num, plot_interval)\n",
    "plt.plot(lists, accuracies_train, label=\"training set\")\n",
    "plt.plot(lists, accuracies_test,  label=\"test set\")\n",
    "plt.legend(loc=\"lower right\")\n",
    "plt.title(\"momentum\")\n",
    "plt.xlabel(\"count\")\n",
    "plt.ylabel(\"accuracy\")\n",
    "plt.ylim(0, 1.0)\n",
    "plt.show()"
   ]
  },
  {
   "cell_type": "markdown",
   "metadata": {},
   "source": [
    "* 学習履歴の描画\n",
    "* 緩やかに収束して行っている"
   ]
  },
  {
   "cell_type": "code",
   "execution_count": 55,
   "metadata": {},
   "outputs": [],
   "source": [
    "network = MultiLayerNet(input_size=784, \n",
    "                        hidden_size_list=[40, 20], \n",
    "                        output_size=10, activation='sigmoid', \n",
    "                        weight_init_std=0.01,\n",
    "                        use_batchnorm=False)"
   ]
  },
  {
   "cell_type": "markdown",
   "metadata": {},
   "source": [
    "* 再び初期化"
   ]
  }
 ],
 "metadata": {
  "kernelspec": {
   "display_name": "Python 3 (ipykernel)",
   "language": "python",
   "name": "python3"
  },
  "language_info": {
   "codemirror_mode": {
    "name": "ipython",
    "version": 3
   },
   "file_extension": ".py",
   "mimetype": "text/x-python",
   "name": "python",
   "nbconvert_exporter": "python",
   "pygments_lexer": "ipython3",
   "version": "3.8.12"
  }
 },
 "nbformat": 4,
 "nbformat_minor": 4
}

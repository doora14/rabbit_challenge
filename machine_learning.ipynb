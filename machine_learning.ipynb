{
 "cells": [
  {
   "cell_type": "markdown",
   "metadata": {},
   "source": [
    "# 機械学習"
   ]
  },
  {
   "cell_type": "markdown",
   "metadata": {},
   "source": [
    "# 線形回帰モデル"
   ]
  },
  {
   "cell_type": "markdown",
   "metadata": {},
   "source": [
    "### 回帰問題\n",
    "* ある入力(離散あるいは連続値)から出力(連続値)を予測する問題\n",
    "* 直線で予測…線形回帰\n",
    "* 曲線で予測…非線形回帰\n",
    "___ \n",
    "### 回帰で扱うデータ\n",
    "* 入力…元のベクトル(m=1の場合はスカラ)(説明変数)\n",
    "* 出力…値(目的変数)\n",
    "___"
   ]
  },
  {
   "cell_type": "markdown",
   "metadata": {},
   "source": [
    "### 線形回帰モデル\n",
    "$$\\hat{y}=w^\\intercal x+w_0=\\sum_{j=1}^mw_jx_j+w_0$$\n",
    "* 回帰問題を解くための機械学習モデルの1つ\n",
    "* 教師あり学習\n",
    "* **入力とm次元パラメータの線形結合を出力する**モデル\n",
    "___\n",
    "### 線形結合\n",
    "* 入力とパラメータの内積\n",
    "* 入力ベクトルとの線形結合に加え、切片$w_0$も足し加える\n",
    "___"
   ]
  },
  {
   "cell_type": "markdown",
   "metadata": {},
   "source": [
    "### モデルのパラメータ\n",
    "* 推定すべきパラメータ\n",
    "* 特徴量が予測値に対してどのように影響を与えるかを決定する重みの集合\n",
    "* **最小二乗法により推定**\n",
    "___\n",
    "\n",
    "### 単回帰モデル\n",
    "$$\n",
    "y=w_0+w_1x_1+\\epsilon\n",
    "$$\n",
    "* 入力(説明変数)が1次元の場合、単回帰モデルという\n",
    "* 推定すべきパラメータである$w_1$を回帰係数という\n",
    "* ここでの$\\epsilon$は誤差をあらわす\n",
    "___"
   ]
  },
  {
   "cell_type": "markdown",
   "metadata": {},
   "source": [
    "### 単回帰モデルの行列表現\n",
    "$$y=Xw+\\epsilon$$\n",
    "\n",
    "\n",
    "$$\n",
    "\\left\\{\n",
    "\\begin{array}{ll}\n",
    "y=(y_1,y_2,...,y_n)^\\intercal\\\\\n",
    "X=(x_1,x_2,...,x_n)^\\intercal\\\\\n",
    "x_i=(1,x_1)^\\intercal\\\\\n",
    "w=(w_0,w_1)^\\intercal\\\\\n",
    "\\epsilon=(\\epsilon_1,\\epsilon_2,...,\\epsilon_n)^\\intercal\n",
    "\\end{array}\n",
    "\\right.\n",
    "$$\n",
    "* 単回帰は説明変数が1次元なので、パラメータ$w$も1次元\n",
    "___"
   ]
  },
  {
   "cell_type": "markdown",
   "metadata": {},
   "source": [
    "### 重回帰モデル\n",
    "$$\n",
    "y=w_0+w_1x_1+w_2x_2+\\epsilon\n",
    "$$\n",
    "* 入力(説明変数)が2次元以上の場合、重回帰モデルという\n",
    "* 重回帰モデルではデータを曲面で観測する\n",
    "___"
   ]
  },
  {
   "cell_type": "markdown",
   "metadata": {},
   "source": [
    "### 重回帰モデルの行列表現\n",
    "$$y=Xw+\\epsilon$$\n",
    "\n",
    "\n",
    "$$\n",
    "\\left\\{\n",
    "\\begin{array}{ll}\n",
    "y=(y_1,y_2,...,y_n)^\\intercal\\\\\n",
    "X=(x_1,x_2,...,x_n)^\\intercal\\\\\n",
    "x_i=(1,x_{i1},...,x_{im})^\\intercal\\\\\n",
    "w=(w_0,w_1,...,w_m)^\\intercal\\\\\n",
    "\\epsilon=(\\epsilon_1,\\epsilon_2,...,\\epsilon_n)^\\intercal\n",
    "\\end{array}\n",
    "\\right.\n",
    "$$\n",
    "* 重回帰では説明変数が増え、それに伴い、パラメータ$w$が増える(次元数が増える)\n",
    "___"
   ]
  },
  {
   "cell_type": "markdown",
   "metadata": {},
   "source": [
    "### データの分割とモデルの汎化性能測定\n",
    "* 学習用データ...機械学習のモデルの学習に使用するデータ\n",
    "* 検証用データ...学習済みモデルの精度の検証に使用するデータ\n",
    "* シンプルに比率でに分割する分割手法をホールドアウト法という\n",
    "___"
   ]
  },
  {
   "cell_type": "markdown",
   "metadata": {},
   "source": [
    "### 平均二乗誤差(残差平方和)\n",
    "$$MSE=\\frac1{n}\\sum_{i=1}^n(\\hat{y_i}-y_i)^2$$\n",
    "* データとモデル出力の二乗誤差の和\n",
    "* 小さいほど直線とデータの距離が近い(誤差が小さい)\n",
    "___"
   ]
  },
  {
   "cell_type": "markdown",
   "metadata": {},
   "source": [
    "### 最小二乗法\n",
    "$$\\hat{w}=argmin MSE$$\n",
    "* 学習データの平均二乗誤差を最小とするパラメータを探索\n",
    "$$\\frac{\\partial}{\\partial w}MSE=0$$\n",
    "* 学習データの平均二乗誤差の最小化は、その勾配が0になる点を求めれば良い\n",
    "___"
   ]
  },
  {
   "cell_type": "markdown",
   "metadata": {},
   "source": [
    "### 最小二乗法による、回帰係数\n",
    "$$\\hat{w}=(X^\\intercal X)^{-1}X^\\intercal y$$\n",
    "___"
   ]
  },
  {
   "cell_type": "markdown",
   "metadata": {},
   "source": [
    "### ハンズオン"
   ]
  },
  {
   "cell_type": "code",
   "execution_count": 4,
   "metadata": {},
   "outputs": [
    {
     "data": {
      "text/plain": [
       "array([4.24007956])"
      ]
     },
     "execution_count": 4,
     "metadata": {},
     "output_type": "execute_result"
    }
   ],
   "source": [
    "import pandas as pd\n",
    "import numpy as np\n",
    "from sklearn.datasets import load_boston\n",
    "from sklearn.linear_model import LinearRegression\n",
    "\n",
    "boston = load_boston()\n",
    "df = pd.DataFrame(data=boston.data, columns = boston.feature_names)\n",
    "df['PRICE'] = np.array(boston.target)\n",
    "# 説明変数\n",
    "data = df.loc[:, ['CRIM', 'RM']].values\n",
    "# 目的変数\n",
    "target = df.loc[:, 'PRICE'].values\n",
    "\n",
    "model = LinearRegression()\n",
    "model.fit(data, target)\n",
    "model.predict([[0.3, 4]])"
   ]
  },
  {
   "cell_type": "markdown",
   "metadata": {},
   "source": [
    "* ボストンの住宅データセットを線形回帰モデルで分析\n",
    "* 課題...部屋数が4で犯罪率が0.3の物件はいくらになるか？\n",
    "* 結果...4,240$\n",
    "___"
   ]
  },
  {
   "cell_type": "code",
   "execution_count": null,
   "metadata": {},
   "outputs": [],
   "source": []
  }
 ],
 "metadata": {
  "kernelspec": {
   "display_name": "Python 3 (ipykernel)",
   "language": "python",
   "name": "python3"
  },
  "language_info": {
   "codemirror_mode": {
    "name": "ipython",
    "version": 3
   },
   "file_extension": ".py",
   "mimetype": "text/x-python",
   "name": "python",
   "nbconvert_exporter": "python",
   "pygments_lexer": "ipython3",
   "version": "3.8.12"
  }
 },
 "nbformat": 4,
 "nbformat_minor": 4
}

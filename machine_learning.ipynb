{
 "cells": [
  {
   "cell_type": "markdown",
   "metadata": {},
   "source": [
    "# 機械学習"
   ]
  },
  {
   "cell_type": "markdown",
   "metadata": {},
   "source": [
    "# 線形回帰モデル"
   ]
  },
  {
   "cell_type": "markdown",
   "metadata": {},
   "source": [
    "### 回帰問題\n",
    "* ある入力(離散あるいは連続値)から出力(連続値)を予測する問題\n",
    "* 直線で予測…線形回帰\n",
    "* 曲線で予測…非線形回帰\n",
    "___ \n",
    "### 回帰で扱うデータ\n",
    "* 入力…元のベクトル(m=1の場合はスカラ)(説明変数)\n",
    "* 出力…値(目的変数)\n",
    "___"
   ]
  },
  {
   "cell_type": "markdown",
   "metadata": {},
   "source": [
    "### 線形回帰モデル\n",
    "$$\\hat{y}=w^\\intercal x+w_0=\\sum_{j=1}^mw_jx_j+w_0$$\n",
    "* 回帰問題を解くための機械学習モデルの1つ\n",
    "* 教師あり学習\n",
    "* **入力とm次元パラメータの線形結合を出力する**モデル\n",
    "___\n",
    "### 線形結合\n",
    "* 入力とパラメータの内積\n",
    "* 入力ベクトルとの線形結合に加え、切片$w_0$も足し加える\n",
    "___"
   ]
  },
  {
   "cell_type": "markdown",
   "metadata": {},
   "source": [
    "### モデルのパラメータ\n",
    "* 推定すべきパラメータ\n",
    "* 特徴量が予測値に対してどのように影響を与えるかを決定する重みの集合\n",
    "* **最小二乗法により推定**\n",
    "___\n",
    "\n",
    "### 単回帰モデル\n",
    "$$\n",
    "y=w_0+w_1x_1+\\epsilon\n",
    "$$\n",
    "* 入力(説明変数)が1次元の場合、単回帰モデルという\n",
    "* 推定すべきパラメータである$w_1$を回帰係数という\n",
    "* ここでの$\\epsilon$は誤差をあらわす\n",
    "___"
   ]
  },
  {
   "cell_type": "markdown",
   "metadata": {},
   "source": [
    "### 単回帰モデルの行列表現\n",
    "$$y=Xw+\\epsilon$$\n",
    "\n",
    "\n",
    "$$\n",
    "\\left\\{\n",
    "\\begin{array}{ll}\n",
    "y=(y_1,y_2,...,y_n)^\\intercal\\\\\n",
    "X=(x_1,x_2,...,x_n)^\\intercal\\\\\n",
    "x_i=(1,x_1)^\\intercal\\\\\n",
    "w=(w_0,w_1)^\\intercal\\\\\n",
    "\\epsilon=(\\epsilon_1,\\epsilon_2,...,\\epsilon_n)^\\intercal\n",
    "\\end{array}\n",
    "\\right.\n",
    "$$\n",
    "* 単回帰は説明変数が1次元なので、パラメータ$w$も1次元\n",
    "___"
   ]
  },
  {
   "cell_type": "markdown",
   "metadata": {},
   "source": [
    "### 重回帰モデル\n",
    "$$\n",
    "y=w_0+w_1x_1+w_2x_2+\\epsilon\n",
    "$$\n",
    "* 入力(説明変数)が2次元以上の場合、重回帰モデルという\n",
    "* 重回帰モデルではデータを曲面で観測する\n",
    "___"
   ]
  },
  {
   "cell_type": "markdown",
   "metadata": {},
   "source": [
    "### 重回帰モデルの行列表現\n",
    "$$y=Xw+\\epsilon$$\n",
    "\n",
    "\n",
    "$$\n",
    "\\left\\{\n",
    "\\begin{array}{ll}\n",
    "y=(y_1,y_2,...,y_n)^\\intercal\\\\\n",
    "X=(x_1,x_2,...,x_n)^\\intercal\\\\\n",
    "x_i=(1,x_{i1},...,x_{im})^\\intercal\\\\\n",
    "w=(w_0,w_1,...,w_m)^\\intercal\\\\\n",
    "\\epsilon=(\\epsilon_1,\\epsilon_2,...,\\epsilon_n)^\\intercal\n",
    "\\end{array}\n",
    "\\right.\n",
    "$$\n",
    "* 重回帰では説明変数が増え、それに伴い、パラメータ$w$が増える(次元数が増える)\n",
    "___"
   ]
  },
  {
   "cell_type": "markdown",
   "metadata": {},
   "source": [
    "### データの分割とモデルの汎化性能測定\n",
    "* 学習用データ...機械学習のモデルの学習に使用するデータ\n",
    "* 検証用データ...学習済みモデルの精度の検証に使用するデータ\n",
    "* シンプルに比率でに分割する分割手法をホールドアウト法という\n",
    "___"
   ]
  },
  {
   "cell_type": "markdown",
   "metadata": {},
   "source": [
    "### 平均二乗誤差(残差平方和)\n",
    "$$MSE=\\frac1{n}\\sum_{i=1}^n(\\hat{y_i}-y_i)^2$$\n",
    "* データとモデル出力の二乗誤差の和\n",
    "* 小さいほど直線とデータの距離が近い(誤差が小さい)\n",
    "___"
   ]
  },
  {
   "cell_type": "markdown",
   "metadata": {},
   "source": [
    "### 最小二乗法\n",
    "学習データの平均二乗誤差を最小とするパラメータを探索\n",
    "$$\\hat{w}=argmin MSE$$\n",
    "学習データの平均二乗誤差の最小化は、その勾配が0になる点を求めれば良い\n",
    "$$\\frac{\\partial}{\\partial w}MSE=0$$\n",
    "___"
   ]
  },
  {
   "cell_type": "markdown",
   "metadata": {},
   "source": [
    "### 最小二乗法(2)\n",
    "回帰係数\n",
    "$$\\hat{w}=(X^\\intercal X)^{-1}X^\\intercal y$$\n",
    "予測値\n",
    "$$\\hat{y}=X(X^\\intercal X)^{-1}X^\\intercal y$$\n",
    "* 線形回帰の場合には、最尤法による解は最小二乗法の解と一致する\n",
    "___"
   ]
  },
  {
   "cell_type": "markdown",
   "metadata": {},
   "source": [
    "### ハンズオン"
   ]
  },
  {
   "cell_type": "code",
   "execution_count": 6,
   "metadata": {},
   "outputs": [
    {
     "data": {
      "text/plain": [
       "array([4.24007956])"
      ]
     },
     "execution_count": 6,
     "metadata": {},
     "output_type": "execute_result"
    }
   ],
   "source": [
    "import pandas as pd\n",
    "import numpy as np\n",
    "from sklearn.datasets import load_boston\n",
    "from sklearn.linear_model import LinearRegression\n",
    "\n",
    "boston = load_boston()\n",
    "df = pd.DataFrame(data=boston.data, columns = boston.feature_names)\n",
    "df['PRICE'] = np.array(boston.target)\n",
    "# 説明変数\n",
    "data = df.loc[:, ['CRIM', 'RM']].values\n",
    "# 目的変数\n",
    "target = df.loc[:, 'PRICE'].values\n",
    "\n",
    "model = LinearRegression()\n",
    "model.fit(data, target)\n",
    "model.predict([[0.3, 4]])"
   ]
  },
  {
   "cell_type": "markdown",
   "metadata": {},
   "source": [
    "* ボストンの住宅データセットを線形回帰モデルで分析\n",
    "* 課題...部屋数が4で犯罪率が0.3の物件はいくらになるか？\n",
    "* 結果...4,240$　\n",
    "* 「倫理的観点より、ボストンの住宅データセットは非推奨である」という警告が出る\n",
    "___"
   ]
  },
  {
   "cell_type": "markdown",
   "metadata": {},
   "source": [
    "# 非線形回帰モデル"
   ]
  },
  {
   "cell_type": "markdown",
   "metadata": {},
   "source": [
    "### 非線形回帰\n",
    "* 非線形とは、おおよそ「比例関係にない」こと\n",
    "* データの構造を線形で捉えるのは限界がる\n",
    "* 非線形な構造をとらえられる仕組みが必要\n",
    "___"
   ]
  },
  {
   "cell_type": "markdown",
   "metadata": {},
   "source": [
    "### 基底展開法\n",
    "$$\n",
    "y_i=w_0+\\sum_{j=1}^mw_j\\phi_j(x_i)+\\epsilon\n",
    "$$\n",
    "* 回帰関数として、基底関数と呼ばれる既知の非線形関数とパラメータベクトルの線型結合を使用\n",
    "* 要は、$x_i$を一度非線形写像する\n",
    "___"
   ]
  },
  {
   "cell_type": "markdown",
   "metadata": {},
   "source": [
    "### よく使われる基底関数\n",
    "多項式関数\n",
    "$$\\phi_j=x^j$$\n",
    "ガウス型基底関数\n",
    "$$\\phi_j(x)=exp{\\left(\\frac{(x-\\mu_j)^2}{2h_j}\\right)}$$\n",
    "2次元ガウス型基底関数\n",
    "$$\\phi_j(x)=exp{\\left(\\frac{(x-\\mu_j)^\\intercal(x-\\mu_j)}{2h_j}\\right)}$$\n",
    "___"
   ]
  },
  {
   "cell_type": "markdown",
   "metadata": {},
   "source": [
    "### 最尤法による予測値\n",
    "$$\\hat{y}=\\Phi(\\Phi^\\intercal \\Phi)^{-1}\\Phi^\\intercal y$$\n",
    "* 基底展開法も線形回帰と同じ枠組みで推定可能\n",
    "* 線形回帰の予測値の式と一致する\n",
    "___"
   ]
  },
  {
   "cell_type": "markdown",
   "metadata": {},
   "source": [
    "### 未学習(underfittingu)と過学習(overfitting)\n",
    "* 未学習...学習データに対して、十分小さな誤差が得られないモデル\n",
    "* 過学習...小さな誤差は得られたけど、テスト集合誤差との差が大きいモデル\n",
    "___"
   ]
  },
  {
   "cell_type": "markdown",
   "metadata": {},
   "source": [
    "### 過学習対策\n",
    "* 不要な基底関数を削除する\n",
    "* 正則化(罰則化)を用いる\n",
    "___"
   ]
  },
  {
   "cell_type": "markdown",
   "metadata": {},
   "source": [
    "### 正則化項の役割\n",
    "L2ノルムをを利用...Ridge推定量\n",
    "* 縮小推定\n",
    "* 制約を円で取る\n",
    "* パラメータを0に近づけるように推定\n",
    "\n",
    "L1ノルムをを利用...Lasso推定量\n",
    "* スパース推定\n",
    "* 制約をダイヤ形で取る\n",
    "* いくつかのパラメータを0に推定\n",
    "* 0にすることで、不要な基底矢変数を排除することができる"
   ]
  }
 ],
 "metadata": {
  "kernelspec": {
   "display_name": "Python 3 (ipykernel)",
   "language": "python",
   "name": "python3"
  },
  "language_info": {
   "codemirror_mode": {
    "name": "ipython",
    "version": 3
   },
   "file_extension": ".py",
   "mimetype": "text/x-python",
   "name": "python",
   "nbconvert_exporter": "python",
   "pygments_lexer": "ipython3",
   "version": "3.8.12"
  }
 },
 "nbformat": 4,
 "nbformat_minor": 4
}

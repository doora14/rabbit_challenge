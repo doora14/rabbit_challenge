{
 "cells": [
  {
   "cell_type": "markdown",
   "metadata": {},
   "source": [
    "# 機械学習"
   ]
  },
  {
   "cell_type": "markdown",
   "metadata": {},
   "source": [
    "# 線形回帰モデル"
   ]
  },
  {
   "cell_type": "markdown",
   "metadata": {},
   "source": [
    "### 回帰問題\n",
    "* ある入力(離散あるいは連続値)から出力(連続値)を予測する問題\n",
    "* 直線で予測…線形回帰\n",
    "* 曲線で予測…非線形回帰\n",
    "___ \n",
    "### 回帰で扱うデータ\n",
    "* 入力…元のベクトル(m=1の場合はスカラ)(説明変数)\n",
    "* 出力…値(目的変数)\n",
    "___"
   ]
  },
  {
   "cell_type": "markdown",
   "metadata": {},
   "source": [
    "### 線形回帰モデル\n",
    "$$\\hat{y}=w^\\intercal x+w_0=\\sum_{j=1}^mw_jx_j+w_0$$\n",
    "* 回帰問題を解くための機械学習モデルの1つ\n",
    "* 教師あり学習\n",
    "* **入力とm次元パラメータの線形結合を出力する**モデル\n",
    "___\n",
    "### 線形結合\n",
    "* 入力とパラメータの内積\n",
    "* 入力ベクトルとの線形結合に加え、切片$w_0$も足し加える\n",
    "___"
   ]
  },
  {
   "cell_type": "markdown",
   "metadata": {},
   "source": [
    "### モデルのパラメータ\n",
    "* 推定すべきパラメータ\n",
    "* 特徴量が予測値に対してどのように影響を与えるかを決定する重みの集合\n",
    "* **最小二乗法により推定**\n",
    "___\n",
    "\n",
    "### 単回帰モデル\n",
    "$$\n",
    "y=w_0+w_1x_1+\\epsilon\n",
    "$$\n",
    "* 入力(説明変数)が1次元の場合、単回帰モデルという\n",
    "* 推定すべきパラメータである$w_1$を回帰係数という\n",
    "* ここでの$\\epsilon$は誤差をあらわす\n",
    "___"
   ]
  },
  {
   "cell_type": "markdown",
   "metadata": {},
   "source": [
    "### 単回帰モデルの行列表現\n",
    "$$y=Xw+\\epsilon$$\n",
    "\n",
    "\n",
    "$$\n",
    "\\left\\{\n",
    "\\begin{array}{ll}\n",
    "y=(y_1,y_2,...,y_n)^\\intercal\\\\\n",
    "X=(x_1,x_2,...,x_n)^\\intercal\\\\\n",
    "x_i=(1,x_1)^\\intercal\\\\\n",
    "w=(w_0,w_1)^\\intercal\\\\\n",
    "\\epsilon=(\\epsilon_1,\\epsilon_2,...,\\epsilon_n)^\\intercal\n",
    "\\end{array}\n",
    "\\right.\n",
    "$$\n",
    "* 単回帰は説明変数が1次元なので、パラメータ$w$も1次元\n",
    "___"
   ]
  },
  {
   "cell_type": "markdown",
   "metadata": {},
   "source": [
    "### 重回帰モデル\n",
    "$$\n",
    "y=w_0+w_1x_1+w_2x_2+\\epsilon\n",
    "$$\n",
    "* 入力(説明変数)が2次元以上の場合、重回帰モデルという\n",
    "* 重回帰モデルではデータを曲面で観測する\n",
    "___"
   ]
  },
  {
   "cell_type": "markdown",
   "metadata": {},
   "source": [
    "### 重回帰モデルの行列表現\n",
    "$$y=Xw+\\epsilon$$\n",
    "\n",
    "\n",
    "$$\n",
    "\\left\\{\n",
    "\\begin{array}{ll}\n",
    "y=(y_1,y_2,...,y_n)^\\intercal\\\\\n",
    "X=(x_1,x_2,...,x_n)^\\intercal\\\\\n",
    "x_i=(1,x_{i1},...,x_{im})^\\intercal\\\\\n",
    "w=(w_0,w_1,...,w_m)^\\intercal\\\\\n",
    "\\epsilon=(\\epsilon_1,\\epsilon_2,...,\\epsilon_n)^\\intercal\n",
    "\\end{array}\n",
    "\\right.\n",
    "$$\n",
    "* 重回帰では説明変数が増え、それに伴い、パラメータ$w$が増える(次元数が増える)\n",
    "___"
   ]
  },
  {
   "cell_type": "markdown",
   "metadata": {},
   "source": [
    "### データの分割とモデルの汎化性能測定\n",
    "* 学習用データ...機械学習のモデルの学習に使用するデータ\n",
    "* 検証用データ...学習済みモデルの精度の検証に使用するデータ\n",
    "* シンプルに比率でに分割する分割手法をホールドアウト法という\n",
    "___"
   ]
  },
  {
   "cell_type": "markdown",
   "metadata": {},
   "source": [
    "### 平均二乗誤差(残差平方和)\n",
    "$$MSE=\\frac1{n}\\sum_{i=1}^n(\\hat{y_i}-y_i)^2$$\n",
    "* データとモデル出力の二乗誤差の和\n",
    "* 小さいほど直線とデータの距離が近い(誤差が小さい)\n",
    "___"
   ]
  },
  {
   "cell_type": "markdown",
   "metadata": {},
   "source": [
    "### 最小二乗法\n",
    "学習データの平均二乗誤差を最小とするパラメータを探索\n",
    "$$\\hat{w}=argmin MSE$$\n",
    "学習データの平均二乗誤差の最小化は、その勾配が0になる点を求めれば良い\n",
    "$$\\frac{\\partial}{\\partial w}MSE=0$$\n",
    "___"
   ]
  },
  {
   "cell_type": "markdown",
   "metadata": {},
   "source": [
    "### 最小二乗法(2)\n",
    "回帰係数\n",
    "$$\\hat{w}=(X^\\intercal X)^{-1}X^\\intercal y$$\n",
    "予測値\n",
    "$$\\hat{y}=X(X^\\intercal X)^{-1}X^\\intercal y$$\n",
    "* 線形回帰の場合には、最尤法による解は最小二乗法の解と一致する\n",
    "___"
   ]
  },
  {
   "cell_type": "markdown",
   "metadata": {},
   "source": [
    "### ハンズオン"
   ]
  },
  {
   "cell_type": "code",
   "execution_count": 4,
   "metadata": {},
   "outputs": [],
   "source": [
    "import warnings\n",
    "warnings.filterwarnings('ignore')"
   ]
  },
  {
   "cell_type": "markdown",
   "metadata": {},
   "source": [
    "* 「倫理的観点より、ボストンの住宅データセットは非推奨である」という警告が出るため警告を無視するようにする"
   ]
  },
  {
   "cell_type": "code",
   "execution_count": 34,
   "metadata": {},
   "outputs": [],
   "source": [
    "import pandas as pd\n",
    "import numpy as np\n",
    "from sklearn.datasets import load_boston\n",
    "from sklearn.linear_model import LinearRegression"
   ]
  },
  {
   "cell_type": "markdown",
   "metadata": {},
   "source": [
    "* 必要なライブラリインポート"
   ]
  },
  {
   "cell_type": "code",
   "execution_count": 35,
   "metadata": {},
   "outputs": [
    {
     "data": {
      "text/plain": [
       "array([4.24007956])"
      ]
     },
     "execution_count": 35,
     "metadata": {},
     "output_type": "execute_result"
    }
   ],
   "source": [
    "boston = load_boston()  \n",
    "df = pd.DataFrame(data=boston.data, columns = boston.feature_names)\n",
    "df['PRICE'] = np.array(boston.target)\n",
    "\n",
    "data = df.loc[:, ['CRIM', 'RM']].values\n",
    "target = df.loc[:, 'PRICE'].values\n",
    "\n",
    "model = LinearRegression()\n",
    "model.fit(data, target)\n",
    "\n",
    "model.predict([[0.3, 4]])"
   ]
  },
  {
   "cell_type": "markdown",
   "metadata": {},
   "source": [
    "* ボストンの住宅データセットを線形回帰モデルで分析\n",
    "* 課題...部屋数が4で犯罪率が0.3の物件はいくらになるか？\n",
    "* 結果...4,240$　\n",
    "___"
   ]
  },
  {
   "cell_type": "markdown",
   "metadata": {},
   "source": [
    "# 非線形回帰モデル"
   ]
  },
  {
   "cell_type": "markdown",
   "metadata": {},
   "source": [
    "### 非線形回帰\n",
    "* 非線形とは、おおよそ「比例関係にない」こと\n",
    "* データの構造を線形で捉えるのは限界がる\n",
    "* 非線形な構造をとらえられる仕組みが必要\n",
    "___"
   ]
  },
  {
   "cell_type": "markdown",
   "metadata": {},
   "source": [
    "### 基底展開法\n",
    "$$\n",
    "y_i=w_0+\\sum_{j=1}^mw_j\\phi_j(x_i)+\\epsilon\n",
    "$$\n",
    "* 回帰関数として、基底関数と呼ばれる既知の非線形関数とパラメータベクトルの線型結合を使用\n",
    "* 要は、$x_i$を一度非線形写像する\n",
    "___"
   ]
  },
  {
   "cell_type": "markdown",
   "metadata": {},
   "source": [
    "### よく使われる基底関数\n",
    "多項式関数\n",
    "$$\\phi_j=x^j$$\n",
    "ガウス型基底関数\n",
    "$$\\phi_j(x)=exp{\\left\\{\\frac{(x-\\mu_j)^2}{2h_j}\\right\\}}$$\n",
    "2次元ガウス型基底関数\n",
    "$$\\phi_j(x)=exp{\\left\\{\\frac{(x-\\mu_j)^\\intercal(x-\\mu_j)}{2h_j}\\right\\}}$$\n",
    "___"
   ]
  },
  {
   "cell_type": "markdown",
   "metadata": {},
   "source": [
    "### 最尤法による予測値\n",
    "$$\\hat{y}=\\Phi(\\Phi^\\intercal \\Phi)^{-1}\\Phi^\\intercal y$$\n",
    "* 基底展開法も線形回帰と同じ枠組みで推定可能\n",
    "* 線形回帰の予測値の式と一致する\n",
    "___"
   ]
  },
  {
   "cell_type": "markdown",
   "metadata": {},
   "source": [
    "### 未学習(underfittingu)と過学習(overfitting)\n",
    "* 未学習...学習データに対して、十分小さな誤差が得られないモデル\n",
    "* 過学習...小さな誤差は得られたけど、テスト集合誤差との差が大きいモデル\n",
    "___"
   ]
  },
  {
   "cell_type": "markdown",
   "metadata": {},
   "source": [
    "### 過学習対策\n",
    "* 不要な基底関数を削除する\n",
    "* 正則化(罰則化)を用いる\n",
    "___"
   ]
  },
  {
   "cell_type": "markdown",
   "metadata": {},
   "source": [
    "### 正則化項の役割\n",
    "L2ノルムをを利用...Ridge推定量\n",
    "* 縮小推定\n",
    "* 制約を円で取る\n",
    "* パラメータを0に近づけるように推定\n",
    "\n",
    "L1ノルムをを利用...Lasso推定量\n",
    "* スパース推定\n",
    "* 制約をダイヤ形で取る\n",
    "* いくつかのパラメータを0に推定\n",
    "* 0にすることで、不要な基底矢変数を排除することができる\n",
    "___"
   ]
  },
  {
   "cell_type": "markdown",
   "metadata": {},
   "source": [
    "### 汎化性能\n",
    "* 学習に使用した入力だけでなく、これまで見たことのない新たな入力に対する予測性能\n",
    "* 学習誤差(訓練誤差)ではなく、汎化誤差(検証誤差、テスト誤差)が小さいものが良いモデルとされる\n",
    "* 汎化誤差は通常、学習データとは別に収集された検証データでの性能を測ることで推定\n",
    "___"
   ]
  },
  {
   "cell_type": "markdown",
   "metadata": {},
   "source": [
    "### クロスバリデーション(交差検証)\n",
    "* ホールドアウト法には、手元にデータが大量にある場合を除いて、良い性能評価を与えないという欠点がある\n",
    "* 分割する方法パターンをイテレータごとに変える(5分割交差検証の場合、イテレータは5)\n",
    "* イテレータ毎に検証データが重複しないようにする\n",
    "* イテレータ毎の検証結果に対し、平均値(CV値)を算出し、評価する\n",
    "___"
   ]
  },
  {
   "cell_type": "markdown",
   "metadata": {},
   "source": [
    "### グリッドサーチ\n",
    "* 全てのチューニングパラメータの組み合わせで評価値を算出\n",
    "* ハイパーパラメータチューニング手法のひとつであり、現在は、ベイズ最適化がよく利用される\n",
    "___"
   ]
  },
  {
   "cell_type": "markdown",
   "metadata": {},
   "source": [
    "### ハンズオン"
   ]
  },
  {
   "cell_type": "code",
   "execution_count": 1,
   "metadata": {},
   "outputs": [],
   "source": [
    "import matplotlib.pyplot as plt\n",
    "import numpy as np\n",
    "from sklearn.linear_model import LinearRegression\n",
    "from sklearn.kernel_ridge import KernelRidge\n",
    "from sklearn.preprocessing import PolynomialFeatures\n",
    "from sklearn.pipeline import Pipeline\n",
    "\n",
    "%matplotlib inline"
   ]
  },
  {
   "cell_type": "markdown",
   "metadata": {},
   "source": [
    "* 必要なライブラリのインポート"
   ]
  },
  {
   "cell_type": "code",
   "execution_count": 2,
   "metadata": {},
   "outputs": [],
   "source": [
    "n=100\n",
    "\n",
    "def true_func(x):\n",
    "    z = 1-48*x+218*x**2-315*x**3+145*x**4\n",
    "    return z \n",
    "def linear_func(x):\n",
    "    z = x\n",
    "    return z \n",
    "\n",
    "data = np.random.rand(n).astype(np.float32)\n",
    "data = np.sort(data)\n",
    "target = true_func(data)\n",
    "noise = 0.5 * np.random.randn(n) \n",
    "target = target + noise"
   ]
  },
  {
   "cell_type": "markdown",
   "metadata": {},
   "source": [
    "* データの準備"
   ]
  },
  {
   "cell_type": "code",
   "execution_count": 14,
   "metadata": {},
   "outputs": [
    {
     "data": {
      "image/png": "[encoded data removed]",
      "text/plain": [
       "<Figure size 432x288 with 1 Axes>"
      ]
     },
     "metadata": {
      "needs_background": "light"
     },
     "output_type": "display_data"
    }
   ],
   "source": [
    "clf = LinearRegression()\n",
    "data = data.reshape(-1,1)\n",
    "target = target.reshape(-1,1)\n",
    "clf.fit(data, target)\n",
    "\n",
    "p_lin = clf.predict(data)\n",
    "\n",
    "plt.scatter(data, target, label='data')\n",
    "plt.plot(data, p_lin, color='darkorange', label='linear regression')\n",
    "plt.legend()\n",
    "plt.show()"
   ]
  },
  {
   "cell_type": "markdown",
   "metadata": {},
   "source": [
    "* シンプルな線形回帰\n",
    "* 表現力に欠け、未学習気味なのがわかる"
   ]
  },
  {
   "cell_type": "code",
   "execution_count": 4,
   "metadata": {},
   "outputs": [
    {
     "data": {
      "image/png": "[encoded data removed]",
      "text/plain": [
       "<Figure size 432x288 with 1 Axes>"
      ]
     },
     "metadata": {
      "needs_background": "light"
     },
     "output_type": "display_data"
    }
   ],
   "source": [
    "clf = KernelRidge(alpha=0.0002, kernel='rbf')\n",
    "clf.fit(data, target)\n",
    "\n",
    "p_kridge = clf.predict(data)\n",
    "\n",
    "plt.scatter(data, target, label='data')\n",
    "plt.plot(data, p_kridge, color='orange', label='kernel ridge')\n",
    "plt.legend()\n",
    "plt.show()"
   ]
  },
  {
   "cell_type": "markdown",
   "metadata": {},
   "source": [
    "* RBFカーネルによる非線型回帰\n",
    "* 線形回帰と比べ、表現力が増している"
   ]
  },
  {
   "cell_type": "code",
   "execution_count": 20,
   "metadata": {},
   "outputs": [
    {
     "data": {
      "image/png": "[encoded data removed]",
      "text/plain": [
       "<Figure size 432x288 with 1 Axes>"
      ]
     },
     "metadata": {
      "needs_background": "light"
     },
     "output_type": "display_data"
    }
   ],
   "source": [
    "deg = [1,2,3,4,5,6,7,8,9,10]\n",
    "plt.scatter(data, target, label='data')\n",
    "for d in deg:\n",
    "    regr = Pipeline([\n",
    "        ('poly', PolynomialFeatures(degree=d)),\n",
    "        ('linear', LinearRegression())\n",
    "    ])\n",
    "    regr.fit(data, target)\n",
    "    p_poly = regr.predict(data)\n",
    "    plt.plot(data, p_poly, label='deg:%d' % (d), alpha=0.5)\n",
    "plt.legend()\n",
    "plt.show()"
   ]
  },
  {
   "cell_type": "markdown",
   "metadata": {},
   "source": [
    "* 多項式回帰(重回帰分析の一種)\n",
    "* 1~10次元までの結果を示す\n",
    "___"
   ]
  },
  {
   "cell_type": "markdown",
   "metadata": {},
   "source": [
    "# ロジスティック回帰モデル"
   ]
  },
  {
   "cell_type": "markdown",
   "metadata": {},
   "source": [
    "### 分類問題\n",
    "* ある入力(数値)からクラスに分類する問題\n",
    "* ロジスティック**回帰**とあるが、分類モデルであることに注意\n",
    "___"
   ]
  },
  {
   "cell_type": "markdown",
   "metadata": {},
   "source": [
    "### 分類で扱うデータ\n",
    "* 入力...m次元のベクトル(m=1の場合はスカラ)\n",
    "* 出力...0 or 1の値\n",
    "___"
   ]
  },
  {
   "cell_type": "markdown",
   "metadata": {},
   "source": [
    "### ロジスティック線形回帰モデル\n",
    "$$P(Y=1|x)=\\sigma(w_0+w_1x_1)$$\n",
    "* 分類問題を解くための教師あり機械学習モデル\n",
    "* 入力とm次元パラメータの線形結合をシグモイド関数に入力(線形回帰との違いはここだけ)\n",
    "* 出力はy=1になる確率の値になる\n",
    "* 確率が0.5以上なら「1」，0.5未満なら「0」と予測\n",
    "___"
   ]
  },
  {
   "cell_type": "markdown",
   "metadata": {},
   "source": [
    "### シグモイド関数\n",
    "$$\\sigma(x)=\\frac{1}{1+exp(-ax)}$$\n",
    "* 入力は実数・出力は必ず0~1の値\n",
    "* (クラス1に分類される)確率を表現\n",
    "* 単調増加関数\n",
    "___"
   ]
  },
  {
   "cell_type": "markdown",
   "metadata": {},
   "source": [
    "### シグモイド関数の性質\n",
    "$$\\frac{\\partial \\sigma(x)}{\\partial x}=a\\sigma(x)(1-\\sigma(x))$$\n",
    "* シグモイド関数の微分は、シグモイド関数自身で表現することが可能\n",
    "* 度関数の微分を行う際にこの事実を利用すると計算が容易\n",
    "___"
   ]
  },
  {
   "cell_type": "markdown",
   "metadata": {},
   "source": [
    "### 最尤推定\n",
    "* 最尤推定量(最も尤もらしい推定量のこと)を求める\n",
    "* 尤度関数を最大化するようなパラメータを選ぶ推定方法を最尤推定という\n",
    "___"
   ]
  },
  {
   "cell_type": "markdown",
   "metadata": {},
   "source": [
    "### ロジスティック回帰モデルの最尤推定\n",
    "尤度関数\n",
    "$$L(w)=P(y_1,y_2,...,y_n;p)=\\prod_{i=1}^np^{y_i}(1-p)^{1-y_i}$$\n",
    "負の対数尤度関数\n",
    "$$E(w)=-logL(w)=-\\sum_{i=1}^n\\left\\{y_ilogp_i+(1-y_i)log(1-p_k)\\right\\}$$\n",
    "* 確率変数は独立であることを仮定すると、それぞれの確率の掛け算となる\n",
    "* 確率pはシグモイド関数となるため、推定するパラメータは重みパラメータとなる(パラメータのみに依存する)\n",
    "* 「同時確率の積が和に変換可能」、「指数が積の演算に変換可能」という理由のもと、対数をとる\n",
    "* 対数尤度関数が最大になる点と尤度関数が最大になる点は同じ\n",
    "* 「尤度関数にマイナスをかけたものを最小化」し、「最小2乗法の最小化」と合わせる\n",
    "___"
   ]
  },
  {
   "cell_type": "markdown",
   "metadata": {},
   "source": [
    "### 勾配降下法\n",
    "$$w^{k+1}=w^k-\\eta\\frac{\\partial E(w)}{\\partial w}$$\n",
    "* 反復学習によりパラメータを逐次的に更新するアプローチの一つ\n",
    "* パラメータの更新がなくなるくらいまで繰り返す\n",
    "* $\\eta$...学習率\n",
    "___"
   ]
  },
  {
   "cell_type": "markdown",
   "metadata": {},
   "source": [
    "### 勾配降下法(2)\n",
    "ロジスティック回帰における勾配の計算\n",
    "$$\n",
    "\\begin{align}\n",
    "\\frac{\\partial E(w)}{\\partial w}\n",
    "&=\\sum_{i=1}^n\\frac{\\partial E(w)}{\\partial p_i}\\frac{\\partial p_i}{\\partial w}\\\\\n",
    "&=-\\sum_{i=1}^n(y_i-p_i)x_i\n",
    "\\end{align}\n",
    "$$\n",
    "* 途中式は省略するが、連鎖率、対数の微分、シグモイド関数の微分の知識が必要\n",
    "___"
   ]
  },
  {
   "cell_type": "markdown",
   "metadata": {},
   "source": [
    "### 勾配降下法(3)\n",
    "ロジスティック回帰における更新式\n",
    "$$w^{k+1}=w^k+\\eta\\sum_{i=1}^n(y_i-p_i)x_i$$\n",
    "* パラメータが更新されなくなった場合、それは勾配が0になったということ\n",
    "* 勾配降下法では、パラメータを更新するのにN個全てのデータに対する和を求める必要がある\n",
    "___"
   ]
  },
  {
   "cell_type": "markdown",
   "metadata": {},
   "source": [
    "### 確率的勾配降下法(SGD)\n",
    "* データを一つずつランダムに(確率的に)選んでパラメータを更新\n",
    "* 勾配降下法でパラメータを1回更新するのと同じ計算量でパラメータをn回更新できるので効率よく最適な解を探索可能\n",
    "___"
   ]
  },
  {
   "cell_type": "markdown",
   "metadata": {},
   "source": [
    "### ロジスティック回帰モデルの性能評価\n",
    "* 混同行列...TP、FP、FN、TNの4つの予測結果の個数をまとめた表\n",
    "* 正解率は、クラス数に偏りがある時、意味をなさない\n",
    "\n",
    "再現率(Recall)\n",
    "$$\\frac{TP}{TP+FN}$$\n",
    "* 本当にPositiveなものの中からPositiveと予測できる割合\n",
    "* 「誤り(False Positive)が多少多くても抜け漏れは少ない」予測をしたい際に利用\n",
    "\n",
    "適合率(Precision)\n",
    "$$\\frac{TP}{TP+FP}$$\n",
    "* 「Positiveと予測」したものの中で本当にPositiveである割合\n",
    "* 見逃し(False Negative)が多くてもより正確な」予測をしたい際に利用\n",
    "\n",
    "F値\n",
    "$$\\frac{2\\times Precison\\times Recall}{Precision+Recall }$$\n",
    "* 再現率と適合率はトレードオフの関係にある\n",
    "* 調和平均であり、両者のバランスを示している。高ければ高いほどともに高くなる。\n",
    "___"
   ]
  },
  {
   "cell_type": "markdown",
   "metadata": {},
   "source": [
    "### ハンズオン"
   ]
  },
  {
   "cell_type": "code",
   "execution_count": 28,
   "metadata": {},
   "outputs": [],
   "source": [
    "import pandas as pd\n",
    "import numpy as np\n",
    "from sklearn.linear_model import LogisticRegression"
   ]
  },
  {
   "cell_type": "markdown",
   "metadata": {},
   "source": [
    "* 必要なライブラリのインポート"
   ]
  },
  {
   "cell_type": "code",
   "execution_count": 36,
   "metadata": {},
   "outputs": [],
   "source": [
    "titanic_df = pd.read_csv('study_ai_ml_google/data/titanic_train.csv')\n",
    "\n",
    "titanic_df['AgeFill'] = titanic_df['Age'].fillna(titanic_df['Age'].mean())\n",
    "titanic_df['Gender'] = titanic_df['Sex'].map({'female': 0, 'male': 1}).astype(int)"
   ]
  },
  {
   "cell_type": "markdown",
   "metadata": {},
   "source": [
    "* データの読み込み\n",
    "* nullを含むAgeの行に対し、中央値での補完を行い、新たな列を作成\n",
    "* 文字列のデータであるSexの行をカテゴリカル変数へと変換し、新たな列を作成"
   ]
  },
  {
   "cell_type": "code",
   "execution_count": 38,
   "metadata": {},
   "outputs": [
    {
     "name": "stdout",
     "output_type": "stream",
     "text": [
      "[0]\n",
      "[[0.80668102 0.19331898]]\n"
     ]
    }
   ],
   "source": [
    "data = titanic_df.loc[:, ['AgeFill', 'Gender']].values\n",
    "label = titanic_df.loc[:,['Survived']].values\n",
    "\n",
    "model=LogisticRegression()\n",
    "model.fit(data, label)\n",
    "\n",
    "print(model.predict([[30, 1]]))\n",
    "print(model.predict_proba([[30, 1]]))"
   ]
  },
  {
   "cell_type": "markdown",
   "metadata": {},
   "source": [
    "* タイタニックの乗客データを利用しロジスティック回帰モデルを作成\n",
    "* 課題...年齢が30歳で男の乗客は生き残れるか？\n",
    "* 結果...生き残れない、約80％の確率で死亡\n",
    "___"
   ]
  },
  {
   "cell_type": "markdown",
   "metadata": {},
   "source": [
    "# 主成分分析"
   ]
  },
  {
   "cell_type": "markdown",
   "metadata": {},
   "source": [
    "### 主成分分析\n",
    "* 多変量データの持つ構造をより少数個の指標に圧縮(情報の損失はなるべく小さくしたい)\n",
    "* 2、3次元に圧縮することで、可視化が実現可能\n",
    "___"
   ]
  },
  {
   "cell_type": "markdown",
   "metadata": {},
   "source": [
    "### 主成分分析(2)\n",
    "学習データ\n",
    "$$x_i=(x_{i1}, x_{i2}, ..., x_{im})∈R^m$$\n",
    "平均(**ベクトル**)\n",
    "$$\\bar x=\\frac{1}{n}\\sum_{i=1}^nx_i$$\n",
    "データ行列\n",
    "$$\\bar X=(x_1-\\bar x, ...x_n-\\bar x)^T$$\n",
    "分散共分散行列\n",
    "$$Var(\\bar X)=\\frac{1}{n}\\bar X^T \\bar X$$\n",
    "線形変換後のベクトル\n",
    "$$s_j=(s_{1j}-s_{nj})^T=\\bar X a_j$$\n",
    "線形変換後の分散\n",
    "$$\n",
    "\\begin{align}\n",
    "Var(S_j)&=\\frac{1}{n}(\\bar Xa_j)^T(\\bar Xa_j)\\\\\n",
    "&=a_j^TVar(\\bar X)a_j\n",
    "\\end{align}\n",
    "$$\n",
    "* 分散の大きさを情報量と捉える\n",
    "* 線形変換後の変数の分散が最大となる射影軸を探索\n",
    "___"
   ]
  },
  {
   "cell_type": "markdown",
   "metadata": {},
   "source": [
    "### ラグランジュ関数\n",
    "$$E(a_j)=a_j^TVar(\\bar X)a_j-\\lambda(a_j^Ta_j-1)$$\n",
    "* $\\lambda$...ラグランジュ乗数\n",
    "* 上記のラグランジュ関数を最大にする係数ベクトル$a_j$を探索\n",
    "* 制約は、「ノルムが1となる」という意味合い\n",
    "___"
   ]
  },
  {
   "cell_type": "markdown",
   "metadata": {},
   "source": [
    "### ラグランジュ関数(2)\n",
    "$$\n",
    "\\frac{\\partial E(a_j)}{\\partial a_j}=0\\Leftrightarrow \\\\\n",
    "2Var(\\bar X)a_j-2\\lambda a_j=0\\Leftrightarrow\\\\\n",
    "Var(\\bar X)a_f=\\lambda a_j\n",
    "$$\n",
    "より、線形変換後の(射影先の)分散は、\n",
    "$$\n",
    "\\begin{align}\n",
    "Var(S_j)&=a_j^TVar(\\bar X)a_j\\\\\n",
    "&=\\lambda_1a_1^Ta_1\\\\\n",
    "&=\\lambda_1\n",
    "\\end{align}\n",
    "$$\n",
    "* 上記より、最適化問題は、固有値問題に置き換えることが出来る\n",
    "* 分散共分散行列を計算→固有値問題を解く→k番目の固有値(昇順)に対応するベクトルを第k主成分という\n",
    "___"
   ]
  },
  {
   "cell_type": "markdown",
   "metadata": {},
   "source": [
    "### 寄与率\n",
    "$$c_k=\\frac{\\lambda_k}{\\sum_{i=1}^m\\lambda_i}$$\n",
    "* 第k主成分の分散の全分散に対する割合\n",
    "* 第k主成分が持つ情報量の割合を示す\n",
    "___"
   ]
  },
  {
   "cell_type": "markdown",
   "metadata": {},
   "source": [
    "### 累積寄与率\n",
    "$$r_k=\\frac{\\sum_{j=1}^m\\lambda_j}{\\sum_{i=1}^m\\lambda_i}$$\n",
    "* 第1-k主成分まで圧縮した際の情報損失量の割合\n",
    "___"
   ]
  },
  {
   "cell_type": "markdown",
   "metadata": {},
   "source": [
    "### ハンズオン"
   ]
  },
  {
   "cell_type": "code",
   "execution_count": 1,
   "metadata": {},
   "outputs": [],
   "source": [
    "import pandas as pd\n",
    "from sklearn.model_selection import train_test_split\n",
    "from sklearn.preprocessing import StandardScaler\n",
    "from sklearn.linear_model import LogisticRegression\n",
    "from sklearn.decomposition import PCA\n",
    "import matplotlib.pyplot as plt\n",
    "%matplotlib inline"
   ]
  },
  {
   "cell_type": "markdown",
   "metadata": {},
   "source": [
    "* 必要なライブラリのインポート"
   ]
  },
  {
   "cell_type": "code",
   "execution_count": 2,
   "metadata": {},
   "outputs": [],
   "source": [
    "cancer_df = pd.read_csv('study_ai_ml_google/data/cancer.csv')\n",
    "y = cancer_df.diagnosis.apply(lambda d: 1 if d == 'M' else 0)\n",
    "X = cancer_df.iloc[:, 2:-1]"
   ]
  },
  {
   "cell_type": "markdown",
   "metadata": {},
   "source": [
    "* データの読み込み\n",
    "* 目的変数、説明変数の指定"
   ]
  },
  {
   "cell_type": "code",
   "execution_count": 3,
   "metadata": {},
   "outputs": [
    {
     "name": "stdout",
     "output_type": "stream",
     "text": [
      "Train score: 0.991\n",
      "Test score: 0.965\n"
     ]
    }
   ],
   "source": [
    "scaler = StandardScaler()\n",
    "X_scaled = scaler.fit_transform(X)\n",
    "X_train, X_test, y_train, y_test = train_test_split(X_scaled, y, random_state=0)\n",
    "\n",
    "logistic = LogisticRegression()\n",
    "logistic.fit(X_train, y_train)\n",
    "print('Train score: {:.3f}'.format(logistic.score(X_train, y_train)))\n",
    "print('Test score: {:.3f}'.format(logistic.score(X_test, y_test)))"
   ]
  },
  {
   "cell_type": "markdown",
   "metadata": {},
   "source": [
    "* 標準化、ホールドアウト法によるデータの分割\n",
    "* ここでは、すべての説明変数(30件)を用いて、ロジスティック回帰を検証"
   ]
  },
  {
   "cell_type": "code",
   "execution_count": 9,
   "metadata": {},
   "outputs": [
    {
     "data": {
      "text/plain": [
       "Text(0, 0.5, 'PC 2')"
      ]
     },
     "execution_count": 9,
     "metadata": {},
     "output_type": "execute_result"
    },
    {
     "data": {
      "image/png": "[encoded data removed]",
      "text/plain": [
       "<Figure size 432x288 with 1 Axes>"
      ]
     },
     "metadata": {
      "needs_background": "light"
     },
     "output_type": "display_data"
    }
   ],
   "source": [
    "pca = PCA(n_components=2)\n",
    "X_train_pca = pca.fit_transform(X_train)\n",
    "temp = pd.DataFrame(X_train_pca)\n",
    "temp['Outcome'] = y_train.values\n",
    "b = temp[temp['Outcome'] == 0]\n",
    "m = temp[temp['Outcome'] == 1]\n",
    "plt.scatter(x=b[0], y=b[1], marker='o') \n",
    "plt.scatter(x=m[0], y=m[1], marker='^')\n",
    "plt.xlabel('PC 1')\n",
    "plt.ylabel('PC 2') "
   ]
  },
  {
   "cell_type": "markdown",
   "metadata": {},
   "source": [
    "* 主成分分析により、2次元にまで圧縮\n",
    "* 2次元に圧縮したことにより、可視化が可能に\n",
    "* 平面上で見ても、おおよそ2値の分類が可能なことがわかる"
   ]
  },
  {
   "cell_type": "code",
   "execution_count": 10,
   "metadata": {},
   "outputs": [
    {
     "name": "stdout",
     "output_type": "stream",
     "text": [
      "Train score: 0.958\n",
      "Test score: 0.944\n"
     ]
    }
   ],
   "source": [
    "X_test_pca = pca.transform(X_test)\n",
    "logistic = LogisticRegression()\n",
    "logistic.fit(X_train_pca, y_train)\n",
    "print('Train score: {:.3f}'.format(logistic.score(X_train_pca, y_train)))\n",
    "print('Test score: {:.3f}'.format(logistic.score(X_test_pca, y_test)))"
   ]
  },
  {
   "cell_type": "markdown",
   "metadata": {},
   "source": [
    "* 2つの特徴量(第1主成分と第2主成分)でロジスティック回帰\n",
    "* 課題...2次元のデータを2次元上に次元圧縮した際に、うまく判別できるかを確認\n",
    "* 結果...30次元の時と比較すると、若干スコアは下がったが、充分分類できている\n",
    "___"
   ]
  },
  {
   "cell_type": "markdown",
   "metadata": {},
   "source": [
    "# SVM(サポートベクタマシーン)"
   ]
  },
  {
   "cell_type": "markdown",
   "metadata": {},
   "source": [
    "### 決定係数と分類問題\n",
    "* 決定関数...2クラス分類問題において、特徴ベクトル$x$がどちらのクラスに属するかを判定するための関数\n",
    "* $x$が２次元の時、決定関数は平面をあらわす\n",
    "* 分類境界...2つのクラスに分ける境界線\n",
    "___"
   ]
  },
  {
   "cell_type": "markdown",
   "metadata": {},
   "source": [
    "### 線形サポートベクトル分類(ハードマージン)\n",
    "* マージン...分類境界を挟んで2つのクラスがどのくらい離れているかの指標\n",
    "* SVMでは、マージンが大きいほど良い分類境界となる\n",
    "* マージン最大化...大きなマージンを持つ分類境界を探す考え方\n",
    "* ハードマージン...分離可能性を仮定した場合の線形SV分類\n",
    "* ここでは、分類境界の決定に関わっているのは、分類境界に最も近いデータ$x_i$のみで、他のデータは関係ない\n",
    "* サポートベクトル...分類境界に最も近いデータ$x_i$\n",
    "___"
   ]
  },
  {
   "cell_type": "markdown",
   "metadata": {},
   "source": [
    "### 線形サポートベクトル分類(ソフトマージン)\n",
    "* ソフトマージン...分離可能でないデータに対応したSV分類\n",
    "* 境界線が曖昧なデータにおいて、多少の分類誤りは許すようにすることで実現する\n",
    "* スラック変数...マージン内に入るデータや誤分類されたデータに対する誤差を表す変数\n",
    "___"
   ]
  },
  {
   "cell_type": "markdown",
   "metadata": {},
   "source": [
    "### カーネルを用いた非線形分離への拡張\n",
    "* カーネルトリック...特徴ベクトルを非線形変換して、その空間での線形分類を行う際の計算を簡略化するテクニック\n",
    "* 代表的なカーネル関数として、多項式カーネル、ガウスカーネル、シグモイドカーネルがある\n",
    "___"
   ]
  },
  {
   "cell_type": "markdown",
   "metadata": {},
   "source": [
    "### ハンズオン"
   ]
  },
  {
   "cell_type": "code",
   "execution_count": 1,
   "metadata": {},
   "outputs": [],
   "source": [
    "import numpy as np\n",
    "import matplotlib.pyplot as plt\n",
    "%matplotlib inline"
   ]
  },
  {
   "cell_type": "markdown",
   "metadata": {},
   "source": [
    "* 必要なライブラリのインポート"
   ]
  },
  {
   "cell_type": "code",
   "execution_count": 15,
   "metadata": {},
   "outputs": [
    {
     "data": {
      "image/png": "[encoded data removed]",
      "text/plain": [
       "<Figure size 432x288 with 1 Axes>"
      ]
     },
     "metadata": {
      "needs_background": "light"
     },
     "output_type": "display_data"
    }
   ],
   "source": [
    "def gen_data():\n",
    "    x0 = np.random.normal(size=50).reshape(-1, 2) - 2.\n",
    "    x1 = np.random.normal(size=50).reshape(-1, 2) + 2.\n",
    "    X_train = np.concatenate([x0, x1])\n",
    "    ys_train = np.concatenate([np.zeros(25), np.ones(25)]).astype(np.int)\n",
    "    return X_train, ys_train\n",
    "\n",
    "X_train, ys_train = gen_data()\n",
    "plt.scatter(X_train[:, 0], X_train[:, 1], c=ys_train)\n",
    "plt.show()"
   ]
  },
  {
   "cell_type": "markdown",
   "metadata": {},
   "source": [
    "* データの準備と可視化(線形分離可能)"
   ]
  },
  {
   "cell_type": "code",
   "execution_count": 16,
   "metadata": {},
   "outputs": [],
   "source": [
    "t = np.where(ys_train == 1.0, 1.0, -1.0)\n",
    "n_samples = len(X_train)\n",
    "K = X_train.dot(X_train.T)\n",
    "H = np.outer(t, t) * K\n",
    "\n",
    "def update_lagrange(n_samples, H, n_iter, eta1=0.01, eta2=0.001):\n",
    "    a = np.ones(n_samples)\n",
    "    for _ in range(n_iter):\n",
    "        grad = 1 - H.dot(a)\n",
    "        a += eta1 * grad\n",
    "        a -= eta2 * a.dot(t) * t\n",
    "        a = np.where(a > 0, a, 0)\n",
    "    return a\n",
    "\n",
    "a = update_lagrange(n_samples, H, 500)"
   ]
  },
  {
   "cell_type": "markdown",
   "metadata": {},
   "source": [
    "$$\n",
    "H_{ij}=t_it_jk(x_i,x_j)\\\\\n",
    "a\\leftarrow a+\\eta_1(1-H\\boldsymbol{a})\\\\\n",
    "a\\leftarrow a-\\eta_2(a^{\\mathrm{T}}t)t\n",
    "$$\n",
    "* 線形カーネルを使用\n",
    "* 最適化問題を最急降下法で解く\n",
    "* 2式からなる更新式で、ラグランジュ乗数$a$を更新する"
   ]
  },
  {
   "cell_type": "code",
   "execution_count": 17,
   "metadata": {},
   "outputs": [],
   "source": [
    "index = a > 1e-6\n",
    "support_vectors = X_train[index]\n",
    "support_vector_t = t[index]\n",
    "support_vector_a = a[index]\n",
    "\n",
    "term2 = K[index][:, index].dot(support_vector_a * support_vector_t)\n",
    "b = (support_vector_t - term2).mean()"
   ]
  },
  {
   "cell_type": "markdown",
   "metadata": {},
   "source": [
    "$$\n",
    "b = \\frac{1}{S} \\sum_{s \\in S} \\left( t_{s} - \\sum_{i=1}^{n} a_{i} t_{i} k(\\boldsymbol{x}_{i}, \\boldsymbol{x}_{s}) \\right)\n",
    "$$\n",
    "* $a>0$に対応するデータ点(サポートベクトル)を保持\n",
    "* bをもとめる"
   ]
  },
  {
   "cell_type": "code",
   "execution_count": 18,
   "metadata": {},
   "outputs": [],
   "source": [
    "xx0, xx1 = np.meshgrid(np.linspace(-5, 5, 100), np.linspace(-5, 5, 100))\n",
    "xx = np.array([xx0, xx1]).reshape(2, -1).T\n",
    "X_test = xx\n",
    "\n",
    "y_project = np.ones(len(X_test)) * b\n",
    "for i in range(len(X_test)):\n",
    "    for a, sv_t, sv in zip(support_vector_a, support_vector_t, support_vectors):\n",
    "        y_project[i] += a * sv_t * sv.dot(X_test[i])\n",
    "y_pred = np.sign(y_project)"
   ]
  },
  {
   "cell_type": "markdown",
   "metadata": {},
   "source": [
    "* テストデータの作成\n",
    "* 決定関数より、テストデータの予測値を計算\n",
    "* 決定関数の正負により、ラベルの割り当て"
   ]
  },
  {
   "cell_type": "code",
   "execution_count": 19,
   "metadata": {},
   "outputs": [
    {
     "data": {
      "image/png": "[encoded data removed]",
      "text/plain": [
       "<Figure size 432x288 with 1 Axes>"
      ]
     },
     "metadata": {
      "needs_background": "light"
     },
     "output_type": "display_data"
    }
   ],
   "source": [
    "plt.scatter(X_train[:, 0], X_train[:, 1], c=ys_train)\n",
    "plt.scatter(support_vectors[:, 0], support_vectors[:, 1],\n",
    "                    s=100, facecolors='none', edgecolors='k')\n",
    "plt.contour(xx0, xx1, y_project.reshape(100, 100), colors='k',\n",
    "                     levels=[-1, 0, 1], alpha=0.5, linestyles=['--', '-', '--'])\n",
    "plt.show()"
   ]
  },
  {
   "cell_type": "markdown",
   "metadata": {},
   "source": [
    "* 訓練データとサポートベクトルを可視化\n",
    "* マージンと決定境界を可視化\n",
    "___"
   ]
  },
  {
   "cell_type": "code",
   "execution_count": 10,
   "metadata": {},
   "outputs": [
    {
     "data": {
      "image/png": "[encoded data removed]",
      "text/plain": [
       "<Figure size 432x288 with 1 Axes>"
      ]
     },
     "metadata": {
      "needs_background": "light"
     },
     "output_type": "display_data"
    }
   ],
   "source": [
    "def gen_data():\n",
    "    factor = .2\n",
    "    n_samples = 50\n",
    "    linspace = np.linspace(0, 2 * np.pi, n_samples // 2 + 1)[:-1]\n",
    "    outer_circ_x = np.cos(linspace)\n",
    "    outer_circ_y = np.sin(linspace)\n",
    "    inner_circ_x = outer_circ_x * factor\n",
    "    inner_circ_y = outer_circ_y * factor\n",
    "    X = np.vstack((np.append(outer_circ_x, inner_circ_x),\n",
    "                   np.append(outer_circ_y, inner_circ_y))).T\n",
    "    y = np.hstack([np.zeros(n_samples // 2, dtype=np.intp),\n",
    "                   np.ones(n_samples // 2, dtype=np.intp)])\n",
    "    X += np.random.normal(scale=0.15, size=X.shape)\n",
    "    return X, y\n",
    "\n",
    "x_train, y_train = gen_data()\n",
    "plt.scatter(x_train[:,0], x_train[:,1], c=y_train)\n",
    "plt.show()"
   ]
  },
  {
   "cell_type": "markdown",
   "metadata": {},
   "source": [
    "* データの準備と可視化(線形分離不可能)"
   ]
  },
  {
   "cell_type": "code",
   "execution_count": 11,
   "metadata": {},
   "outputs": [],
   "source": [
    "def rbf(u, v):\n",
    "        sigma = 0.8\n",
    "        return np.exp(-0.5 * ((u - v)**2).sum() / sigma**2)\n",
    "X_train = x_train\n",
    "t = np.where(y_train == 1.0, 1.0, -1.0)\n",
    "n_samples = len(X_train)\n",
    "K = np.zeros((n_samples, n_samples))\n",
    "for i in range(n_samples):\n",
    "    for j in range(n_samples):\n",
    "        K[i, j] = rbf(X_train[i], X_train[j])\n",
    "H = np.outer(t, t) * K\n",
    "    \n",
    "a = update_lagrange(n_samples, H, 5000)"
   ]
  },
  {
   "cell_type": "markdown",
   "metadata": {},
   "source": [
    "* RBFカーネルを使用\n",
    "* 2式からなる更新式で、ラグランジュ乗数$a$を更新する"
   ]
  },
  {
   "cell_type": "code",
   "execution_count": 12,
   "metadata": {},
   "outputs": [],
   "source": [
    "index = a > 1e-6\n",
    "support_vectors = X_train[index]\n",
    "support_vector_t = t[index]\n",
    "support_vector_a = a[index]\n",
    "\n",
    "term2 = K[index][:, index].dot(support_vector_a * support_vector_t)\n",
    "b = (support_vector_t - term2).mean()"
   ]
  },
  {
   "cell_type": "markdown",
   "metadata": {},
   "source": [
    "* $a>0$に対応するデータ点(サポートベクトル)を保持\n",
    "* bをもとめる"
   ]
  },
  {
   "cell_type": "code",
   "execution_count": 13,
   "metadata": {},
   "outputs": [],
   "source": [
    "xx0, xx1 = np.meshgrid(np.linspace(-1.5, 1.5, 100), np.linspace(-1.5, 1.5, 100))\n",
    "xx = np.array([xx0, xx1]).reshape(2, -1).T\n",
    "\n",
    "X_test = xx\n",
    "y_project = np.ones(len(X_test)) * b\n",
    "for i in range(len(X_test)):\n",
    "    for a, sv_t, sv in zip(support_vector_a, support_vector_t, support_vectors):\n",
    "        y_project[i] += a * sv_t * rbf(X_test[i], sv)\n",
    "y_pred = np.sign(y_project)"
   ]
  },
  {
   "cell_type": "markdown",
   "metadata": {},
   "source": [
    "* テストデータの作成\n",
    "* 決定関数より、テストデータの予測値を計算\n",
    "* 決定関数の正負により、ラベルの割り当て"
   ]
  },
  {
   "cell_type": "code",
   "execution_count": 14,
   "metadata": {},
   "outputs": [
    {
     "data": {
      "image/png": "[encoded data removed]",
      "text/plain": [
       "<Figure size 432x288 with 1 Axes>"
      ]
     },
     "metadata": {
      "needs_background": "light"
     },
     "output_type": "display_data"
    }
   ],
   "source": [
    "plt.scatter(x_train[:, 0], x_train[:, 1], c=y_train)\n",
    "plt.scatter(support_vectors[:, 0], support_vectors[:, 1],s=100, facecolors='none', edgecolors='k')\n",
    "plt.contour(xx0, xx1, y_project.reshape(100, 100), colors='k',\n",
    "                     levels=[-1, 0, 1], alpha=0.5, linestyles=['--', '-', '--'])\n",
    "plt.show()"
   ]
  },
  {
   "cell_type": "markdown",
   "metadata": {},
   "source": [
    "* 訓練データとサポートベクトルを可視化\n",
    "* マージンと決定境界を可視化\n",
    "___"
   ]
  },
  {
   "cell_type": "code",
   "execution_count": 22,
   "metadata": {},
   "outputs": [
    {
     "data": {
      "image/png": "[encoded data removed]",
      "text/plain": [
       "<Figure size 432x288 with 1 Axes>"
      ]
     },
     "metadata": {
      "needs_background": "light"
     },
     "output_type": "display_data"
    }
   ],
   "source": [
    "x0 = np.random.normal(size=50).reshape(-1, 2) - 1.\n",
    "x1 = np.random.normal(size=50).reshape(-1, 2) + 1.\n",
    "x_train = np.concatenate([x0, x1])\n",
    "y_train = np.concatenate([np.zeros(25), np.ones(25)]).astype(np.int)\n",
    "plt.scatter(x_train[:,0], x_train[:,1], c=y_train)\n",
    "plt.show()"
   ]
  },
  {
   "cell_type": "markdown",
   "metadata": {},
   "source": [
    "* データの準備と可視化(重なりあり)"
   ]
  },
  {
   "cell_type": "code",
   "execution_count": 29,
   "metadata": {},
   "outputs": [],
   "source": [
    "X_train = x_train\n",
    "t = np.where(y_train == 1.0, 1.0, -1.0)\n",
    "n_samples = len(X_train)\n",
    "# 線形カーネル\n",
    "K = X_train.dot(X_train.T)\n",
    "C = 1\n",
    "eta1 = 0.01\n",
    "eta2 = 0.001\n",
    "n_iter = 1000\n",
    "H = np.outer(t, t) * K\n",
    "a = np.ones(n_samples)\n",
    "for _ in range(n_iter):\n",
    "    grad = 1 - H.dot(a)\n",
    "    a += eta1 * grad\n",
    "    a -= eta2 * a.dot(t) * t\n",
    "    a = np.clip(a, 0, C)"
   ]
  },
  {
   "cell_type": "markdown",
   "metadata": {},
   "source": [
    "* 制約条件が$a_{i} \\ge 0$の代わりに$0 \\le a_{i} \\le C (i = 1, 2, ..., n)$となる。"
   ]
  },
  {
   "cell_type": "code",
   "execution_count": 30,
   "metadata": {},
   "outputs": [],
   "source": [
    "index = a > 1e-8\n",
    "support_vectors = X_train[index]\n",
    "support_vector_t = t[index]\n",
    "support_vector_a = a[index]\n",
    "\n",
    "term2 = K[index][:, index].dot(support_vector_a * support_vector_t)\n",
    "b = (support_vector_t - term2).mean()"
   ]
  },
  {
   "cell_type": "markdown",
   "metadata": {},
   "source": [
    "* $a>0$に対応するデータ点(サポートベクトル)を保持\n",
    "* bをもとめる"
   ]
  },
  {
   "cell_type": "code",
   "execution_count": 31,
   "metadata": {},
   "outputs": [],
   "source": [
    "xx0, xx1 = np.meshgrid(np.linspace(-4, 4, 100), np.linspace(-4, 4, 100))\n",
    "xx = np.array([xx0, xx1]).reshape(2, -1).T\n",
    "\n",
    "X_test = xx\n",
    "y_project = np.ones(len(X_test)) * b\n",
    "for i in range(len(X_test)):\n",
    "    for a, sv_t, sv in zip(support_vector_a, support_vector_t, support_vectors):\n",
    "        y_project[i] += a * sv_t * sv.dot(X_test[i])\n",
    "y_pred = np.sign(y_project)"
   ]
  },
  {
   "cell_type": "markdown",
   "metadata": {},
   "source": [
    "* テストデータの作成\n",
    "* 決定関数より、テストデータの予測値を計算\n",
    "* 決定関数の正負により、ラベルの割り当て"
   ]
  },
  {
   "cell_type": "code",
   "execution_count": 32,
   "metadata": {},
   "outputs": [
    {
     "data": {
      "image/png": "[encoded data removed]",
      "text/plain": [
       "<Figure size 432x288 with 1 Axes>"
      ]
     },
     "metadata": {
      "needs_background": "light"
     },
     "output_type": "display_data"
    }
   ],
   "source": [
    "plt.scatter(x_train[:, 0], x_train[:, 1], c=y_train)\n",
    "plt.scatter(support_vectors[:, 0], support_vectors[:, 1],\n",
    "                    s=100, facecolors='none', edgecolors='k')\n",
    "plt.contour(xx0, xx1, y_project.reshape(100, 100), colors='k',\n",
    "                     levels=[-1, 0, 1], alpha=0.5, linestyles=['--', '-', '--'])\n",
    "plt.show()"
   ]
  },
  {
   "cell_type": "markdown",
   "metadata": {},
   "source": [
    "* テストデータの作成\n",
    "* 決定関数より、テストデータの予測値を計算\n",
    "* 決定関数の正負により、ラベルの割り当て\n",
    "___"
   ]
  }
 ],
 "metadata": {
  "kernelspec": {
   "display_name": "Python 3",
   "language": "python",
   "name": "python3"
  },
  "language_info": {
   "codemirror_mode": {
    "name": "ipython",
    "version": 3
   },
   "file_extension": ".py",
   "mimetype": "text/x-python",
   "name": "python",
   "nbconvert_exporter": "python",
   "pygments_lexer": "ipython3",
   "version": "3.8.5"
  }
 },
 "nbformat": 4,
 "nbformat_minor": 4
}

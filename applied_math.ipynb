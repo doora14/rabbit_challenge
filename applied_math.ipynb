{
 "cells": [
  {
   "cell_type": "markdown",
   "metadata": {},
   "source": [
    "# 応用数学"
   ]
  },
  {
   "cell_type": "markdown",
   "metadata": {},
   "source": [
    "## 第1章：線形代数"
   ]
  },
  {
   "cell_type": "markdown",
   "metadata": {
    "jp-MarkdownHeadingCollapsed": true,
    "tags": []
   },
   "source": [
    "#### スカラー\n",
    "* 普通の数\n",
    "* ベクトルに対する係数になれる\n",
    "\n",
    "#### ベクトル\n",
    "* 「大きさ」と「向き」を持つ数\n",
    "* スカラーのセットで表現される\n",
    "\n",
    "#### 行列\n",
    "* スカラーを表にしたもの\n",
    "* ベクトルを並べたもの(ベクトルのベクトル)"
   ]
  },
  {
   "cell_type": "markdown",
   "metadata": {
    "tags": []
   },
   "source": [
    "#### 行列の積"
   ]
  },
  {
   "cell_type": "markdown",
   "metadata": {},
   "source": [
    "$$\n",
    "\\begin{pmatrix}\n",
    "a_{1} & a_{2} \\\\\n",
    "a_{3} & a_{4}\n",
    "\\end{pmatrix}\n",
    "\\times\n",
    "\\begin{pmatrix}\n",
    "b_{1} & b_{2} \\\\\n",
    "b_{3} & b_{4}\n",
    "\\end{pmatrix} = \n",
    "\\begin{pmatrix}\n",
    "a_{1}b_{1} + a_{2}b_{3} & a_{1}b_{2} + a_{2}b_{4} \\\\\n",
    "a_{3}b_{1} + a_{4}b_{3} & a_{3}b_{2} + a_{4}b_{4}\n",
    "\\end{pmatrix}\n",
    "$$"
   ]
  },
  {
   "cell_type": "markdown",
   "metadata": {},
   "source": [
    "#### 単位行列\n",
    "$$\n",
    "I =\n",
    "\\begin{pmatrix}\n",
    "1 & 0 \\\\\n",
    "0 & 1\n",
    "\\end{pmatrix}\n",
    "$$\n",
    "* 対角成分が1で、他の成分が0である行列\n",
    "* かけても相手が変化しない、「1」のような行列\n",
    "* 任意のn次正方行列$A$に対して、$IA=AI=A$が成り立つn次正方行列$I$\n",
    "\n"
   ]
  },
  {
   "cell_type": "markdown",
   "metadata": {},
   "source": [
    "#### 逆行列\n",
    "$$\n",
    "A^{-1}\n",
    "$$\n",
    "* ある行列$A$に対して、$AA^{-1}=A^{-1}A=I$が成り立つ行列$A^{-1}$\n",
    "* $\\begin{pmatrix}\n",
    "a & b \\\\\n",
    "c & d\n",
    "\\end{pmatrix}$という行列に対して、$ad-bc=0$となる時、逆行列を持たない"
   ]
  },
  {
   "cell_type": "code",
   "execution_count": null,
   "metadata": {},
   "outputs": [],
   "source": []
  }
 ],
 "metadata": {
  "kernelspec": {
   "display_name": "Python 3 (ipykernel)",
   "language": "python",
   "name": "python3"
  },
  "language_info": {
   "codemirror_mode": {
    "name": "ipython",
    "version": 3
   },
   "file_extension": ".py",
   "mimetype": "text/x-python",
   "name": "python",
   "nbconvert_exporter": "python",
   "pygments_lexer": "ipython3",
   "version": "3.8.12"
  }
 },
 "nbformat": 4,
 "nbformat_minor": 4
}

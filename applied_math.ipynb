{
 "cells": [
  {
   "cell_type": "markdown",
   "metadata": {},
   "source": [
    "# 応用数学"
   ]
  },
  {
   "cell_type": "markdown",
   "metadata": {},
   "source": [
    "# 第1章　線形代数"
   ]
  },
  {
   "cell_type": "markdown",
   "metadata": {
    "jp-MarkdownHeadingCollapsed": true,
    "tags": []
   },
   "source": [
    "### スカラー\n",
    "* 普通の数\n",
    "* ベクトルに対する係数になれる\n",
    "\n",
    "### ベクトル\n",
    "* 「大きさ」と「向き」を持つ数\n",
    "* スカラーのセットで表現される\n",
    "\n",
    "### 行列\n",
    "* スカラーを表にしたもの\n",
    "* ベクトルを並べたもの(ベクトルのベクトル)\n",
    "___"
   ]
  },
  {
   "cell_type": "markdown",
   "metadata": {},
   "source": [
    "### 行列の積\n",
    "$$\n",
    "\\begin{pmatrix}\n",
    "a_{1} & a_{2} \\\\\n",
    "a_{3} & a_{4}\n",
    "\\end{pmatrix}\n",
    "\\times\n",
    "\\begin{pmatrix}\n",
    "b_{1} & b_{2} \\\\\n",
    "b_{3} & b_{4}\n",
    "\\end{pmatrix} = \n",
    "\\begin{pmatrix}\n",
    "a_{1}b_{1} + a_{2}b_{3} & a_{1}b_{2} + a_{2}b_{4} \\\\\n",
    "a_{3}b_{1} + a_{4}b_{3} & a_{3}b_{2} + a_{4}b_{4}\n",
    "\\end{pmatrix}\n",
    "$$\n",
    "___"
   ]
  },
  {
   "cell_type": "markdown",
   "metadata": {},
   "source": [
    "### 単位行列\n",
    "$$\n",
    "I =\n",
    "\\begin{pmatrix}\n",
    "1 & 0 \\\\\n",
    "0 & 1\n",
    "\\end{pmatrix}\n",
    "$$\n",
    "* 対角成分が1で、他の成分が0である行列\n",
    "* かけても相手が変化しない、「1」のような行列\n",
    "* 任意のn次正方行列$A$に対して、$IA=AI=A$が成り立つn次正方行列$I$\n",
    "___"
   ]
  },
  {
   "cell_type": "markdown",
   "metadata": {},
   "source": [
    "### 逆行列\n",
    "$$\n",
    "A^{-1}\n",
    "$$\n",
    "* ある行列$A$に対して、$AA^{-1}=A^{-1}A=I$が成り立つ行列$A^{-1}$\n",
    "* $\\begin{pmatrix}\n",
    "a & b \\\\\n",
    "c & d\n",
    "\\end{pmatrix}$という行列に対して、$ad-bc=0$となる時、逆行列を持たない\n",
    "* ガウスの掃き出し法により、もとめることができる\n",
    "* また、以下の公式でももとめることができる\n",
    "$$\n",
    "A^{-1}=\\frac{1}{ad-bc}\n",
    "\\begin{pmatrix}\n",
    "d & -b \\\\\n",
    "-c & a\n",
    "\\end{pmatrix}\n",
    "$$\n",
    "___"
   ]
  },
  {
   "cell_type": "markdown",
   "metadata": {},
   "source": [
    "### 行列式\n",
    "$$\n",
    "\\begin{vmatrix}\n",
    "a & b \\\\\n",
    "c & d\n",
    "\\end{vmatrix}\n",
    "$$\n",
    "* 行列の特徴を表す指標の1つ\n",
    "* 方程式などではなく、スカラー\n",
    "* 行列式の値が0の時、逆行列を持たない\n",
    "___"
   ]
  },
  {
   "cell_type": "markdown",
   "metadata": {
    "tags": []
   },
   "source": [
    "### 行列式の計算\n",
    "$$\n",
    "A =\n",
    "\\begin{pmatrix}\n",
    "a_{11} & a_{12} \\\\\n",
    "a_{21} & a_{22}\n",
    "\\end{pmatrix}\n",
    "$$\n",
    "について、\n",
    "$$\n",
    "\\begin{vmatrix}\n",
    "A\n",
    "\\end{vmatrix}\n",
    "=a_{11}a_{22}-a_{12}a_{21}\n",
    "$$\n",
    "\n",
    "\n",
    "$$\n",
    "B =\n",
    "\\begin{pmatrix}\n",
    "b_{11} & b_{12} & b_{13}\\\\\n",
    "b_{21} & b_{22} & b_{23}\\\\\n",
    "b_{31} & b_{32} & b_{33}\\\\\n",
    "\\end{pmatrix}\n",
    "$$\n",
    "について、\n",
    "$$\n",
    "\\begin{vmatrix}\n",
    "B\n",
    "\\end{vmatrix}\n",
    "=b_{11}b_{22}b_{33}+b_{12}b_{23}b_{31}+b_{13}b_{21}b_{32} −b_{13}b_{22}b_{31}−b_{12}b_{21}b_{33}−b_{11}b_{23}b_{32}\n",
    "$$\n",
    "___"
   ]
  },
  {
   "cell_type": "markdown",
   "metadata": {},
   "source": [
    "### 固有値と固有ベクトル\n",
    "$$\n",
    "A\\vec{x}=\\lambda\\vec{x}\n",
    "$$\n",
    "* $\\vec{x}$を固有ベクトル、係数$\\lambda$を固有値という\n",
    "* 上式において、行列Aと固有ベクトルの積は、ただのスカラーである固有値と固有ベクトルの積と同じ値になる\n",
    "* $\\begin{vmatrix}\n",
    "A-\\lambda I\n",
    "\\end{vmatrix}=0$より、固有値を算出し、その後固有ベクトルをもとめることができる\n",
    "___"
   ]
  },
  {
   "cell_type": "markdown",
   "metadata": {},
   "source": [
    "### 固有値分解\n",
    "ある正方行列$A$について、固有値$\\lambda_{1},\\lambda_{2}$…と、固有ベクトル$\\vec{v_{1}},\\vec{v_{2}}$…を並べた行列\n",
    "$$\n",
    "\\Lambda =\n",
    "\\begin{pmatrix}\n",
    "\\lambda_{1}&&\\\\\n",
    "&\\lambda_{2}&\\\\\n",
    "&&\\ddots\n",
    "\\end{pmatrix}\n",
    "　　　V =\n",
    "\\begin{pmatrix}\n",
    "&&&\\\\\n",
    "\\vec{v_{1}}&\\vec{v_{2}}&\\cdots\\\\\n",
    "&&&\\\\\n",
    "\\end{pmatrix}\n",
    "$$\n",
    "\n",
    "* 上記の行列について、\n",
    "$\n",
    "A=V\\Lambda V^{-1}\n",
    "$\n",
    "と3つの行列の積に変換することを固有値分解という\n",
    "* 行列の累乗の計算が容易になる等の利点がある\n",
    "___"
   ]
  },
  {
   "cell_type": "markdown",
   "metadata": {},
   "source": [
    "### 特異値分解\n",
    "$$ \n",
    "M\\vec{v}=\\sigma\\vec{u}\\\\\n",
    "M^\\intercal\\vec{u}=\\sigma\\vec{v}\\\\\n",
    "M=USV^\\intercal\n",
    "$$\n",
    "* 正方行列**以外**に対応させた固有値分解の様なもの　\n",
    "* 上式を満たすような単位ベクトル$\\vec{v}$、$\\vec{u}$がある時、特異値分解が可能\n",
    "___"
   ]
  },
  {
   "cell_type": "markdown",
   "metadata": {
    "tags": []
   },
   "source": [
    "### 特異値分解手順\n",
    "$$\n",
    "MM^\\intercal=USS^\\intercal U^{-1}\\tag{1}\n",
    "$$$$\n",
    "M^\\intercal M=VS^\\intercal SV^{-1}\\tag{2}\n",
    "$$\n",
    "* 上式を用いて以下の手順でもとめる\n",
    "1. $MM^\\intercal$を固有値分解する\n",
    "2. (1)式より、$U$(左特異ベクトル)と$SS^\\intercal$(特異値の2乗)をもとめる\n",
    "3. $M^\\intercal M$を固有値分解する\n",
    "4. (2)式より、$V$(右特異ベクトル)と$S^\\intercal S$(特異値の2乗)をもとめる\n",
    "5. $M=USV^\\intercal$に当てはめる\n",
    "___"
   ]
  },
  {
   "cell_type": "markdown",
   "metadata": {},
   "source": [
    "# 第2章　確率・統計"
   ]
  },
  {
   "cell_type": "markdown",
   "metadata": {},
   "source": [
    "### 条件付き確率\n",
    "$$\n",
    "P(B \\mid A) = \\frac{P(A \\cap B)}{P(A)}\n",
    "$$\n",
    "* ある事象が起こるという条件のもとで、別のある事象が起こる確率のこと\n",
    "* 上式の場合、事象Bが起こるという条件のもとで事象Aが起こる確率\n",
    "___"
   ]
  },
  {
   "cell_type": "markdown",
   "metadata": {
    "tags": []
   },
   "source": [
    "### 独立な事象の同時確率\n",
    "$$\n",
    "P(A \\cap B)=P(A)P(B)\n",
    "$$\n",
    "* お互いの結果が影響しあうことがないとき、2つの事象は「独立である」という\n",
    "* 独立である事象の同時確率は、ただの事象同士の確率の積で算出することができる\n",
    "* 事象Aと事象Bが独立であるとき、$P(A\\mid B)=P(A)$である\n",
    "___"
   ]
  },
  {
   "cell_type": "markdown",
   "metadata": {
    "tags": []
   },
   "source": [
    "### 乗法定理\n",
    "$$\n",
    "P(A \\cap B)=P(B \\mid A){P(A)}\\\\\n",
    "P(A \\cap B)=P(A \\mid B){P(B)}\n",
    "$$\n",
    "* 事象Aと事象Bが独立でないとき、同時確率は上式になる\n",
    "* 条件付き確率を用いたこの関係式を、乗法定理という\n",
    "___"
   ]
  },
  {
   "cell_type": "markdown",
   "metadata": {
    "tags": []
   },
   "source": [
    "### ベイズ則(ベイズの定理)\n",
    "$$\n",
    "P(B \\mid A) = \\frac{P(A \\mid B){P(B)}}{P(A)}\\tag{1}\n",
    "$$\n",
    "\n",
    "$$\n",
    "P(B_i|A) = \\frac{P(A\\mid B_i)P(B_i)}{\\sum_{j=1}^{k}P(A\\mid B_j)P(B_j)} \\tag{2}\n",
    "$$\n",
    "* 乗法定理を用いることで、もとめることができる\n",
    "* 事象Bは1種類じゃないことが多いため、(2)式のように展開して使われることが多い\n",
    "* 条件となる事象を相互に入れ替える時に使う定理(という理解)\n",
    "___"
   ]
  },
  {
   "cell_type": "markdown",
   "metadata": {},
   "source": [
    "### 確率変数\n",
    "* 事象と結びつけられた数値(例：コインの裏を0、表を1とする)\n",
    "* 事象そのものを指すと解釈する場合も多い(例：サイコロの目)\n",
    "\n",
    "### 確率分布\n",
    "* 事象の発生する確率の分布\n",
    "* 離散値と連続値がある\n",
    "___"
   ]
  },
  {
   "cell_type": "markdown",
   "metadata": {},
   "source": [
    "### 期待値\n",
    "離散値\n",
    "$$ \n",
    "E(X)=\\sum_{i=1}^{n}x_i p_i\n",
    "$$\n",
    "連続値\n",
    "$$\n",
    "E(X)=\\int xf(x)dx\n",
    "$$\n",
    "* 確率変数の平均値orありえそうな値\n",
    "* 確率と確率変数の積の総和\n",
    "___"
   ]
  },
  {
   "cell_type": "markdown",
   "metadata": {},
   "source": [
    "### 分散と標準偏差\n",
    "離散値\n",
    "$$\n",
    "V(X)=\\sum_{i=1}^{n}(x_i-\\mu)^{2}p_i\n",
    "$$\n",
    "連続値\n",
    "$$\n",
    "V(X)=\\int(x_i-\\mu)^{2}f(x)dx\n",
    "$$\n",
    "* データの散らばり具合\n",
    "* 期待値$E(X)$を用いて、$V(X)=E(X^2)-\\lbrace E(X)\\rbrace^2$でもとめることができる\n",
    "* 分散の平方根$\\sqrt{V(X})$を標準偏差という\n",
    "___"
   ]
  },
  {
   "cell_type": "markdown",
   "metadata": {},
   "source": [
    "### 共分散\n",
    "$$\n",
    "Cov(X,Y)=E(XY)-\\mu_x\\mu_y\n",
    "$$\n",
    "* 2つのデータ系列の傾向の違い\n",
    "* 正の値を取れば似た傾向\n",
    "* 負の値を取れば逆の傾向\n",
    "___"
   ]
  },
  {
   "cell_type": "markdown",
   "metadata": {},
   "source": [
    "### 様々な確率分布\n",
    "* 基本的なイメージ、確率関数、期待値と分散をそれぞれまとめる\n",
    "* 連続確率変数の確率分布を規定する関数を確率密度関数，離散確率変数の確率分布を規定する関数を確率質量関数という．\n",
    "\n",
    "### ベルヌーイ分布\n",
    "確率質量関数\n",
    "$$f(k;p)=p^k(1-p)^{(1-k)}$$\n",
    "期待値\n",
    "$$E(X)=p$$\n",
    "分散\n",
    "$$V(X)=p(1-p)$$\n",
    "* 「成功か失敗か」「裏か表」のように2種類の結果しか得られない実験の結果を表した分布\n",
    "* 裏と表で出る割合が等しくなくとも扱える\n",
    "\n",
    "### 二項分布\n",
    "確率質量関数\n",
    "$$f(k)={}_n C_kp^k(1-p)^{(n-k)}$$\n",
    "期待値\n",
    "$$E(X)=np$$\n",
    "分散\n",
    "$$V(X)=np(1-p)$$\n",
    "* ベルヌーイ分布の多試行版\n",
    "* n回のベルヌーイ試行を行うときにちょうどk回成功する確率\n",
    "\n",
    "### マルチヌーイ分布\n",
    "確率質量関数\n",
    "$$f(k)=\\frac{n!}{x_1!...x_k!}p_1^{x_1} ...p_k^{x_k}$$\n",
    "期待値\n",
    "$$E(X_i)=np_i$$\n",
    "分散\n",
    "$$V(X_i)=np_i(1-p_i)$$\n",
    "* 多項分布。各確率が$x_k$回起こる確率\n",
    "* k=2の時、二項分布となる\n",
    "\n",
    "### 正規分布(ガウス分布)\n",
    "確率密度関数\n",
    "$$f(x)=\\sqrt{\\frac{1}{2\\pi\\sigma^2}}exp{\\Bigl(-\\frac1{2\\sigma^2}(x-\\mu)^2\\Bigr)}$$\n",
    "期待値\n",
    "$$E(X)=\\mu$$\n",
    "分散\n",
    "$$V(X)=\\sigma^2$$\n",
    "* 釣鐘型の連続分布\n",
    "___"
   ]
  },
  {
   "cell_type": "markdown",
   "metadata": {
    "tags": []
   },
   "source": [
    "# 第3章　情報理論"
   ]
  },
  {
   "cell_type": "markdown",
   "metadata": {},
   "source": [
    "### 自己情報量\n",
    "$$I(x)=-log(P(x))$$\n",
    "* 発生する確率確率が低いことが分かった時の方が、情報量が多い\n",
    "* 対数の底が2のとき、単位はビット(bit)\n",
    "* 選択情報量、自己エントロピー、情報量ともいう\n",
    "___"
   ]
  },
  {
   "cell_type": "markdown",
   "metadata": {},
   "source": [
    "### 平均情報量\n",
    "$$\n",
    "\\begin{align}\n",
    "H(x)&=E(I(x))\\\\\n",
    "&=-E(log(P(x)))\\\\\n",
    "&=-\\sum_x P(x)log(P(x))\n",
    "\\end{align}\n",
    "$$\n",
    "* 自己情報量の期待値\n",
    "* 情報エントロピー、シャノンエントロピーともいう\n",
    "___"
   ]
  },
  {
   "cell_type": "markdown",
   "metadata": {},
   "source": [
    "### カルバック・ライブラー・ダイバージェンス\n",
    "$$\n",
    "D_{KL}(P||Q)=\\sum_x P(x)log\\frac{P(x)}{Q(x)}\n",
    "$$\n",
    "* 同じ事象・確率変数における異なる確率分布P、Qの違いをあらわす\n",
    "* 上式では、PのQに対するKLダイバージェンスをあらわす\n",
    "___"
   ]
  },
  {
   "cell_type": "markdown",
   "metadata": {},
   "source": [
    "### 交差エントロピー\n",
    "$$H(P,Q)=-\\sum_xP(x)log(Q(x))$$\n",
    "* KLダイバージェンスの一部分を取り出したもの\n",
    "* Qについての自己情報量をPの分布で平均している\n",
    "* PとQの確率分布が似ていると交差エントロピーは小さくなり、似ていないと、大きくなる\n",
    "___"
   ]
  }
 ],
 "metadata": {
  "kernelspec": {
   "display_name": "Python 3 (ipykernel)",
   "language": "python",
   "name": "python3"
  },
  "language_info": {
   "codemirror_mode": {
    "name": "ipython",
    "version": 3
   },
   "file_extension": ".py",
   "mimetype": "text/x-python",
   "name": "python",
   "nbconvert_exporter": "python",
   "pygments_lexer": "ipython3",
   "version": "3.8.12"
  },
  "toc-autonumbering": false,
  "toc-showcode": false,
  "toc-showmarkdowntxt": false
 },
 "nbformat": 4,
 "nbformat_minor": 4
}

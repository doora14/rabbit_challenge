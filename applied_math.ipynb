{
 "cells": [
  {
   "cell_type": "markdown",
   "metadata": {},
   "source": [
    "# 応用数学"
   ]
  },
  {
   "cell_type": "markdown",
   "metadata": {},
   "source": [
    "## 第1章：線形代数"
   ]
  },
  {
   "cell_type": "markdown",
   "metadata": {
    "tags": []
   },
   "source": [
    "### スカラー\n",
    "* 普通の数\n",
    "* ベクトルに対する係数になれる\n",
    "\n",
    "### ベクトル\n",
    "* 「大きさ」と「向き」を持つ数\n",
    "* スカラーのセットで表現される\n",
    "\n",
    "### 行列\n",
    "* スカラーを表にしたもの\n",
    "* ベクトルを並べたもの(ベクトルのベクトル)\n",
    "___"
   ]
  },
  {
   "cell_type": "markdown",
   "metadata": {},
   "source": [
    "### 行列の積\n",
    "$$\n",
    "\\begin{pmatrix}\n",
    "a_{1} & a_{2} \\\\\n",
    "a_{3} & a_{4}\n",
    "\\end{pmatrix}\n",
    "\\times\n",
    "\\begin{pmatrix}\n",
    "b_{1} & b_{2} \\\\\n",
    "b_{3} & b_{4}\n",
    "\\end{pmatrix} = \n",
    "\\begin{pmatrix}\n",
    "a_{1}b_{1} + a_{2}b_{3} & a_{1}b_{2} + a_{2}b_{4} \\\\\n",
    "a_{3}b_{1} + a_{4}b_{3} & a_{3}b_{2} + a_{4}b_{4}\n",
    "\\end{pmatrix}\n",
    "$$\n",
    "___"
   ]
  },
  {
   "cell_type": "markdown",
   "metadata": {},
   "source": [
    "### 単位行列\n",
    "$$\n",
    "I =\n",
    "\\begin{pmatrix}\n",
    "1 & 0 \\\\\n",
    "0 & 1\n",
    "\\end{pmatrix}\n",
    "$$\n",
    "* 対角成分が1で、他の成分が0である行列\n",
    "* かけても相手が変化しない、「1」のような行列\n",
    "* 任意のn次正方行列$A$に対して、$IA=AI=A$が成り立つn次正方行列$I$\n",
    "___"
   ]
  },
  {
   "cell_type": "markdown",
   "metadata": {},
   "source": [
    "### 逆行列\n",
    "$$\n",
    "A^{-1}\n",
    "$$\n",
    "* ある行列$A$に対して、$AA^{-1}=A^{-1}A=I$が成り立つ行列$A^{-1}$\n",
    "* $\\begin{pmatrix}\n",
    "a & b \\\\\n",
    "c & d\n",
    "\\end{pmatrix}$という行列に対して、$ad-bc=0$となる時、逆行列を持たない\n",
    "* ガウスの掃き出し法により、求めることができる\n",
    "* また、以下の公式でも求めることができる\n",
    "$$\n",
    "A^{-1}=\\frac{1}{ad-bc}\n",
    "\\begin{pmatrix}\n",
    "d & -b \\\\\n",
    "-c & a\n",
    "\\end{pmatrix}\n",
    "$$\n",
    "___"
   ]
  },
  {
   "cell_type": "markdown",
   "metadata": {},
   "source": [
    "### 行列式\n",
    "$$\n",
    "\\begin{vmatrix}\n",
    "a & b \\\\\n",
    "c & d\n",
    "\\end{vmatrix}\n",
    "$$\n",
    "* 行列の特徴を表す指標の1つ\n",
    "* 方程式などではなく、スカラー\n",
    "* 行列式の値が0の時、逆行列を持たない\n",
    "___"
   ]
  },
  {
   "cell_type": "markdown",
   "metadata": {
    "tags": []
   },
   "source": [
    "### 行列式の計算\n",
    "$$\n",
    "A =\n",
    "\\begin{pmatrix}\n",
    "a_{11} & a_{12} \\\\\n",
    "a_{21} & a_{22}\n",
    "\\end{pmatrix}\n",
    "$$\n",
    "について、\n",
    "$$\n",
    "\\begin{vmatrix}\n",
    "A\n",
    "\\end{vmatrix}\n",
    "=a_{11}a_{22}-a_{12}a_{21}\n",
    "$$\n",
    "\n",
    "\n",
    "$$\n",
    "B =\n",
    "\\begin{pmatrix}\n",
    "b_{11} & b_{12} & b_{13}\\\\\n",
    "b_{21} & b_{22} & b_{23}\\\\\n",
    "b_{31} & b_{32} & b_{33}\\\\\n",
    "\\end{pmatrix}\n",
    "$$\n",
    "について、\n",
    "$$\n",
    "\\begin{vmatrix}\n",
    "B\n",
    "\\end{vmatrix}\n",
    "=b_{11}b_{22}b_{33}+b_{12}b_{23}b_{31}+b_{13}b_{21}b_{32} −b_{13}b_{22}b_{31}−b_{12}b_{21}b_{33}−b_{11}b_{23}b_{32}\n",
    "$$\n",
    "___"
   ]
  },
  {
   "cell_type": "markdown",
   "metadata": {},
   "source": [
    "### 固有値と固有ベクトル\n",
    "$$\n",
    "A\\vec{x}=\\lambda\\vec{x}\n",
    "$$\n",
    "* $\\vec{x}$を固有ベクトル、係数$\\lambda$を固有値という\n",
    "* 上式において、行列Aと固有ベクトルの積は、ただのスカラーである固有値と固有ベクトルの積と同じ値になる\n",
    "* $\\begin{vmatrix}\n",
    "A-\\lambda I\n",
    "\\end{vmatrix}=0$より、固有値を算出し、その後固有ベクトルを求めることができる\n",
    "___"
   ]
  },
  {
   "cell_type": "markdown",
   "metadata": {},
   "source": [
    "### 固有値分解\n",
    "ある正方行列$A$について、固有値$\\lambda_{1},\\lambda_{2}$…と、固有ベクトル$\\vec{v_{1}},\\vec{v_{2}}$…を並べた行列\n",
    "$$\n",
    "\\Lambda =\n",
    "\\begin{pmatrix}\n",
    "\\lambda_{1}&&\\\\\n",
    "&\\lambda_{2}&\\\\\n",
    "&&\\ddots\n",
    "\\end{pmatrix}\n",
    "　　　V =\n",
    "\\begin{pmatrix}\n",
    "&&&\\\\\n",
    "\\vec{v_{1}}&\\vec{v_{2}}&\\cdots\\\\\n",
    "&&&\\\\\n",
    "\\end{pmatrix}\n",
    "$$\n",
    "\n",
    "* 上記の行列について、\n",
    "$\n",
    "A＝V\\Lambda V^{-1}\n",
    "$\n",
    "と3つの行列の積に変換することを固有値分解という\n",
    "* 行列の累乗の計算が容易になる等の利点がある\n",
    "___"
   ]
  },
  {
   "cell_type": "markdown",
   "metadata": {},
   "source": [
    "### 特異値分解"
   ]
  },
  {
   "cell_type": "code",
   "execution_count": null,
   "metadata": {},
   "outputs": [],
   "source": []
  }
 ],
 "metadata": {
  "kernelspec": {
   "display_name": "Python 3 (ipykernel)",
   "language": "python",
   "name": "python3"
  },
  "language_info": {
   "codemirror_mode": {
    "name": "ipython",
    "version": 3
   },
   "file_extension": ".py",
   "mimetype": "text/x-python",
   "name": "python",
   "nbconvert_exporter": "python",
   "pygments_lexer": "ipython3",
   "version": "3.8.12"
  }
 },
 "nbformat": 4,
 "nbformat_minor": 4
}
